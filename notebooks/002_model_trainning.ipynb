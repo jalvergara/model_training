{
 "cells": [
  {
   "cell_type": "markdown",
   "metadata": {},
   "source": []
  },
  {
   "cell_type": "code",
   "execution_count": 2,
   "metadata": {},
   "outputs": [],
   "source": [
    "import pickle\n",
    "import pandas as pd\n",
    "import matplotlib.pyplot as plt\n",
    "from sklearn.model_selection import train_test_split\n",
    "from sklearn.metrics import accuracy_score, classification_report, roc_auc_score\n",
    "from sklearn.linear_model import LogisticRegression\n",
    "from sklearn.ensemble import GradientBoostingClassifier, RandomForestClassifier\n",
    "from sklearn.neighbors import KNeighborsClassifier\n",
    "from xgboost import XGBClassifier\n"
   ]
  },
  {
   "cell_type": "code",
   "execution_count": 15,
   "metadata": {},
   "outputs": [],
   "source": [
    "# Load the processed data\n",
    "df = pd.read_csv(\"../data/cleaned.csv\")"
   ]
  },
  {
   "cell_type": "code",
   "execution_count": 20,
   "metadata": {},
   "outputs": [
    {
     "name": "stdout",
     "output_type": "stream",
     "text": [
      "<class 'pandas.core.frame.DataFrame'>\n",
      "RangeIndex: 85296 entries, 0 to 85295\n",
      "Data columns (total 26 columns):\n",
      " #   Column                       Non-Null Count  Dtype  \n",
      "---  ------                       --------------  -----  \n",
      " 0   warranty                     85296 non-null  int64  \n",
      " 1   variations                   85296 non-null  int64  \n",
      " 2   tags                         85296 non-null  int64  \n",
      " 3   accepts_mercadopago          85296 non-null  int64  \n",
      " 4   automatic_relist             85296 non-null  int64  \n",
      " 5   status                       85296 non-null  int64  \n",
      " 6   seller_address_longitude     85296 non-null  float64\n",
      " 7   seller_address_latitude      85296 non-null  float64\n",
      " 8   shipping_local_pick_up       85296 non-null  int64  \n",
      " 9   shipping_free_shipping       85296 non-null  int64  \n",
      " 10  base_price_log               85296 non-null  float64\n",
      " 11  price_log                    85296 non-null  float64\n",
      " 12  initial_quantity_log         85296 non-null  float64\n",
      " 13  sold_quantity_log            85296 non-null  float64\n",
      " 14  available_quantity_log       85296 non-null  float64\n",
      " 15  condition_used               85296 non-null  int64  \n",
      " 16  buying_mode_buy_it_now       85296 non-null  int64  \n",
      " 17  buying_mode_classified       85296 non-null  int64  \n",
      " 18  shipping_mode_me1            85296 non-null  int64  \n",
      " 19  shipping_mode_me2            85296 non-null  int64  \n",
      " 20  shipping_mode_not_specified  85296 non-null  int64  \n",
      " 21  sub_status_0_deleted         85296 non-null  int64  \n",
      " 22  sub_status_0_expired         85296 non-null  int64  \n",
      " 23  sub_status_0_suspended       85296 non-null  int64  \n",
      " 24  days_active_log              85296 non-null  float64\n",
      " 25  last_update_days_log         85296 non-null  float64\n",
      "dtypes: float64(9), int64(17)\n",
      "memory usage: 16.9 MB\n"
     ]
    }
   ],
   "source": [
    "df.info()"
   ]
  },
  {
   "cell_type": "code",
   "execution_count": 18,
   "metadata": {},
   "outputs": [],
   "source": [
    "boolean_cols = ['warranty', 'variations', 'tags', 'accepts_mercadopago',\n",
    "                'automatic_relist', 'status', 'shipping_local_pick_up',\n",
    "                'shipping_free_shipping', 'condition_used', 'buying_mode_buy_it_now',\n",
    "                'buying_mode_classified', 'shipping_mode_me1', \n",
    "                'shipping_mode_me2', 'shipping_mode_not_specified',\n",
    "                'sub_status_0_deleted', 'sub_status_0_expired',\n",
    "                'sub_status_0_suspended']\n",
    "\n",
    "# Convertir a entero\n",
    "df[boolean_cols] = df[boolean_cols].astype(int)"
   ]
  },
  {
   "cell_type": "code",
   "execution_count": 21,
   "metadata": {},
   "outputs": [],
   "source": [
    "X = df.drop('condition_used', axis=1)  # Features\n",
    "y = df['condition_used'] #Target"
   ]
  },
  {
   "cell_type": "code",
   "execution_count": 22,
   "metadata": {},
   "outputs": [],
   "source": [
    "X_train, X_test, y_train, y_test = train_test_split(X, y, test_size=0.3, random_state=42)\n"
   ]
  },
  {
   "cell_type": "code",
   "execution_count": 23,
   "metadata": {},
   "outputs": [],
   "source": [
    "from sklearn.compose import ColumnTransformer\n",
    "from sklearn.preprocessing import StandardScaler\n",
    "\n",
    "# Todas las columnas son numéricas, así que seleccionamos todas las columnas\n",
    "num_cols = X.columns.tolist()\n",
    "\n",
    "# Definir el preprocesador solo con la estandarización para las variables numéricas\n",
    "preprocessor = ColumnTransformer(\n",
    "    transformers=[\n",
    "        ('num', StandardScaler(), num_cols)  # Estandarizar las columnas numéricas\n",
    "    ]\n",
    ")\n"
   ]
  },
  {
   "cell_type": "code",
   "execution_count": 24,
   "metadata": {},
   "outputs": [],
   "source": [
    "# Diccionario con diferentes clasificadores\n",
    "model_dict = {\n",
    "    'LogisticReg': LogisticRegression(max_iter=1000),\n",
    "    'RandForest': RandomForestClassifier(),\n",
    "    'DecisionTree': DecisionTreeClassifier(),\n",
    "    'KNN': KNeighborsClassifier(),\n",
    "    'GradBoost': GradientBoostingClassifier(),\n",
    "    'NaiveBayes': GaussianNB(),\n",
    "    'XGBoost': XGBClassifier()\n",
    "}"
   ]
  },
  {
   "cell_type": "code",
   "execution_count": 25,
   "metadata": {},
   "outputs": [],
   "source": [
    "from sklearn.pipeline import Pipeline\n",
    "from sklearn.metrics import accuracy_score, classification_report\n",
    "import joblib\n",
    "\n",
    "def assess_classifiers(X_tr, y_tr, X_te, y_te, classifiers):\n",
    "    performance = {}  # Diccionario para almacenar resultados\n",
    "    top_model_name = None\n",
    "    highest_accuracy = 0\n",
    "    optimal_pipeline = None\n",
    "\n",
    "    # Iterar sobre el diccionario de clasificadores\n",
    "    for clf_name, clf in classifiers.items():\n",
    "        # Crear el pipeline con el preprocesador y el clasificador\n",
    "        processing_pipeline = Pipeline(steps=[\n",
    "            ('data_transform', preprocessor),\n",
    "            ('model', clf)\n",
    "        ])\n",
    "        \n",
    "        # Entrenar el pipeline con los datos de entrenamiento\n",
    "        processing_pipeline.fit(X_tr, y_tr)\n",
    "        \n",
    "        # Predecir las etiquetas para los datos de prueba\n",
    "        y_predicted = processing_pipeline.predict(X_te)\n",
    "        \n",
    "        # Calcular la precisión\n",
    "        acc = accuracy_score(y_te, y_predicted)\n",
    "        performance[clf_name] = acc\n",
    "        \n",
    "        # Imprimir resultados\n",
    "        print(f\"{clf_name} - Accuracy: {acc:.2f}\")\n",
    "        print(classification_report(y_te, y_predicted))\n",
    "        \n",
    "        # Identificar el mejor modelo\n",
    "        if acc > highest_accuracy:\n",
    "            highest_accuracy = acc\n",
    "            top_model_name = clf_name\n",
    "            optimal_pipeline = processing_pipeline\n",
    "\n",
    "    # Guardar el mejor modelo\n",
    "    if optimal_pipeline is not None:\n",
    "        joblib.dump(optimal_pipeline, f'../model/top_model_{top_model_name}.pkl')\n",
    "        print(f\"Top model saved as: ../model/top_model_{top_model_name}.pkl\")\n",
    "\n",
    "    return performance\n"
   ]
  },
  {
   "cell_type": "code",
   "execution_count": 26,
   "metadata": {},
   "outputs": [
    {
     "name": "stdout",
     "output_type": "stream",
     "text": [
      "LogisticReg - Accuracy: 0.75\n",
      "              precision    recall  f1-score   support\n",
      "\n",
      "           0       0.86      0.69      0.76     14913\n",
      "           1       0.66      0.84      0.74     10676\n",
      "\n",
      "    accuracy                           0.75     25589\n",
      "   macro avg       0.76      0.77      0.75     25589\n",
      "weighted avg       0.78      0.75      0.75     25589\n",
      "\n",
      "RandForest - Accuracy: 0.78\n",
      "              precision    recall  f1-score   support\n",
      "\n",
      "           0       0.82      0.79      0.80     14913\n",
      "           1       0.72      0.76      0.74     10676\n",
      "\n",
      "    accuracy                           0.78     25589\n",
      "   macro avg       0.77      0.77      0.77     25589\n",
      "weighted avg       0.78      0.78      0.78     25589\n",
      "\n",
      "DecisionTree - Accuracy: 0.73\n",
      "              precision    recall  f1-score   support\n",
      "\n",
      "           0       0.77      0.78      0.77     14913\n",
      "           1       0.68      0.68      0.68     10676\n",
      "\n",
      "    accuracy                           0.73     25589\n",
      "   macro avg       0.73      0.73      0.73     25589\n",
      "weighted avg       0.73      0.73      0.73     25589\n",
      "\n",
      "KNN - Accuracy: 0.75\n",
      "              precision    recall  f1-score   support\n",
      "\n",
      "           0       0.80      0.76      0.78     14913\n",
      "           1       0.69      0.74      0.71     10676\n",
      "\n",
      "    accuracy                           0.75     25589\n",
      "   macro avg       0.75      0.75      0.75     25589\n",
      "weighted avg       0.76      0.75      0.75     25589\n",
      "\n",
      "GradBoost - Accuracy: 0.77\n",
      "              precision    recall  f1-score   support\n",
      "\n",
      "           0       0.86      0.72      0.78     14913\n",
      "           1       0.68      0.84      0.75     10676\n",
      "\n",
      "    accuracy                           0.77     25589\n",
      "   macro avg       0.77      0.78      0.77     25589\n",
      "weighted avg       0.79      0.77      0.77     25589\n",
      "\n",
      "NaiveBayes - Accuracy: 0.66\n",
      "              precision    recall  f1-score   support\n",
      "\n",
      "           0       0.95      0.44      0.60     14913\n",
      "           1       0.55      0.97      0.70     10676\n",
      "\n",
      "    accuracy                           0.66     25589\n",
      "   macro avg       0.75      0.70      0.65     25589\n",
      "weighted avg       0.78      0.66      0.64     25589\n",
      "\n",
      "XGBoost - Accuracy: 0.80\n",
      "              precision    recall  f1-score   support\n",
      "\n",
      "           0       0.86      0.78      0.82     14913\n",
      "           1       0.73      0.83      0.78     10676\n",
      "\n",
      "    accuracy                           0.80     25589\n",
      "   macro avg       0.80      0.80      0.80     25589\n",
      "weighted avg       0.81      0.80      0.80     25589\n",
      "\n",
      "Top model saved as: ../model/top_model_XGBoost.pkl\n"
     ]
    },
    {
     "data": {
      "text/plain": [
       "{'LogisticReg': 0.752745320254797,\n",
       " 'RandForest': 0.7750986752120052,\n",
       " 'DecisionTree': 0.7347688459885107,\n",
       " 'KNN': 0.7511821485794677,\n",
       " 'GradBoost': 0.7685333541756223,\n",
       " 'NaiveBayes': 0.658720543983743,\n",
       " 'XGBoost': 0.7997186290984407}"
      ]
     },
     "execution_count": 26,
     "metadata": {},
     "output_type": "execute_result"
    }
   ],
   "source": [
    "model_results = assess_classifiers(X_train, y_train, X_test, y_test, model_dict)\n",
    "model_results"
   ]
  },
  {
   "cell_type": "code",
   "execution_count": 27,
   "metadata": {},
   "outputs": [],
   "source": [
    "model_file_path = f'../model/top_model_XGBoost.pkl'\n",
    "loaded_pipeline = joblib.load(model_file_path)\n"
   ]
  },
  {
   "cell_type": "code",
   "execution_count": 29,
   "metadata": {},
   "outputs": [
    {
     "data": {
      "image/png": "[encoded data removed]",
      "text/plain": [
       "<Figure size 640x480 with 2 Axes>"
      ]
     },
     "metadata": {},
     "output_type": "display_data"
    }
   ],
   "source": [
    "# Generar predicciones utilizando el pipeline cargado\n",
    "y_predictions = loaded_pipeline.predict(X_test)\n",
    "\n",
    "# Calcular la matriz de confusión\n",
    "conf_matrix = confusion_matrix(y_test, y_predictions)\n",
    "\n",
    "# Mostrar la matriz de confusión con etiquetas\n",
    "matrix_display = ConfusionMatrixDisplay(confusion_matrix=conf_matrix, display_labels=loaded_pipeline.classes_)\n",
    "matrix_display.plot(cmap='coolwarm')\n",
    "\n",
    "# Título y visualización del gráfico\n",
    "plt.title('Confusion Matrix Display')\n",
    "plt.show()\n"
   ]
  },
  {
   "cell_type": "markdown",
   "metadata": {},
   "source": [
    "La matriz de confusión es una herramienta útil para evaluar el rendimiento de un clasificador, ya que muestra las predicciones correctas e incorrectas en cada clase.\n",
    "\n",
    "### Elementos importantes de la matriz:\n",
    "\n",
    "- **Eje X (Predicted label)**: Etiquetas predichas por el modelo.\n",
    "- **Eje Y (True label)**: Etiquetas verdaderas (reales) de los datos.\n",
    "\n",
    "### Interpretación de los valores:\n",
    "\n",
    "1. **True Negatives (TN)** (parte superior izquierda - valor: **11621**):\n",
    "   - Estas son las observaciones en las que la clase real es \"0\" y el modelo también predijo \"0\".\n",
    "   - En este caso, el modelo predijo correctamente **11621** veces que la clase era \"0\".\n",
    "\n",
    "2. **False Positives (FP)** (parte superior derecha - valor: **3292**):\n",
    "   - Estas son las observaciones en las que la clase real es \"0\" pero el modelo predijo \"1\".\n",
    "   - El modelo cometió **3292** errores al predecir \"1\" cuando la clase real era \"0\" (también conocido como **error de tipo I**).\n",
    "\n",
    "3. **False Negatives (FN)** (parte inferior izquierda - valor: **1833**):\n",
    "   - Estas son las observaciones en las que la clase real es \"1\" pero el modelo predijo \"0\".\n",
    "   - El modelo cometió **1833** errores al predecir \"0\" cuando la clase real era \"1\" (también conocido como **error de tipo II**).\n",
    "\n",
    "4. **True Positives (TP)** (parte inferior derecha - valor: **8843**):\n",
    "   - Estas son las observaciones en las que la clase real es \"1\" y el modelo también predijo \"1\".\n",
    "   - El modelo predijo correctamente **8843** veces que la clase era \"1\".\n",
    "\n"
   ]
  }
 ],
 "metadata": {
  "kernelspec": {
   "display_name": "venv",
   "language": "python",
   "name": "python3"
  },
  "language_info": {
   "codemirror_mode": {
    "name": "ipython",
    "version": 3
   },
   "file_extension": ".py",
   "mimetype": "text/x-python",
   "name": "python",
   "nbconvert_exporter": "python",
   "pygments_lexer": "ipython3",
   "version": "3.12.0"
  }
 },
 "nbformat": 4,
 "nbformat_minor": 2
}
