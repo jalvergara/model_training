{
 "cells": [
  {
   "cell_type": "code",
   "execution_count": 10,
   "metadata": {},
   "outputs": [],
   "source": [
    "import pandas as pd\n",
    "import sklearn\n",
    "import seaborn as sns\n",
    "import matplotlib.pyplot as plt"
   ]
  },
  {
   "cell_type": "code",
   "execution_count": 6,
   "metadata": {},
   "outputs": [],
   "source": [
    "df = pd.read_csv('../data/MLA_100k_cleaned.csv')"
   ]
  },
  {
   "cell_type": "code",
   "execution_count": 15,
   "metadata": {},
   "outputs": [
    {
     "name": "stdout",
     "output_type": "stream",
     "text": [
      "Accuracy of Linear Regression: 0.4430\n",
      "Accuracy of Lasso: 0.5360\n",
      "Accuracy of Ridge: 0.4430\n"
     ]
    },
    {
     "name": "stderr",
     "output_type": "stream",
     "text": [
      "c:\\Users\\ACER\\AppData\\Local\\pypoetry\\Cache\\virtualenvs\\model-training-XxqnHruL-py3.12\\Lib\\site-packages\\sklearn\\linear_model\\_ridge.py:216: LinAlgWarning: Ill-conditioned matrix (rcond=9.17697e-17): result may not be accurate.\n",
      "  return linalg.solve(A, Xy, assume_a=\"pos\", overwrite_a=True).T\n"
     ]
    },
    {
     "name": "stdout",
     "output_type": "stream",
     "text": [
      "Accuracy of RidgeCV: 0.5734\n",
      "Accuracy of LassoLarsCV: 0.4359\n",
      "Accuracy of LassoLarsIC: 0.4430\n"
     ]
    }
   ],
   "source": [
    "from sklearn.model_selection import train_test_split\n",
    "from sklearn.linear_model import LinearRegression, Lasso, Ridge, RidgeCV, LassoLarsCV, LassoLarsIC\n",
    "from sklearn.metrics import accuracy_score\n",
    "import pandas as pd\n",
    "import numpy as np\n",
    "\n",
    "# Definir las características (X) y la variable objetivo (y)\n",
    "df = pd.read_csv('../data/MLA_100k_cleaned.csv')  # Cargar el dataset\n",
    "X = df.drop(columns='condition')  # Asumimos que 'condition' es la variable objetivo\n",
    "y = df['condition']  # 'condition' como variable que queremos predecir\n",
    "\n",
    "# Definir modelos de regresión\n",
    "models = {\n",
    "    'Linear Regression': LinearRegression(),\n",
    "    'Lasso': Lasso(),\n",
    "    'Ridge': Ridge(),\n",
    "    'RidgeCV': RidgeCV(),\n",
    "    'LassoLarsCV': LassoLarsCV(),\n",
    "    'LassoLarsIC': LassoLarsIC(),\n",
    "}\n",
    "\n",
    "# Función para entrenar el modelo y calcular la precisión\n",
    "def train_model(model, X, y):\n",
    "    # Dividir en conjuntos de entrenamiento y prueba\n",
    "    X_train, X_test, y_train, y_test = train_test_split(X, y, test_size=0.2, random_state=42)\n",
    "    \n",
    "    # Entrenar el modelo\n",
    "    model.fit(X_train, y_train)\n",
    "    \n",
    "    # Predecir los valores en el conjunto de prueba\n",
    "    y_predict = model.predict(X_test)\n",
    "    \n",
    "    # Convertir las predicciones continuas en clases binarias (0 o 1) con un umbral de 0.5\n",
    "    y_predict_class = np.where(y_predict >= 0.5, 1, 0)\n",
    "    \n",
    "    # Calcular la precisión (accuracy)\n",
    "    accuracy = accuracy_score(y_test, y_predict_class)\n",
    "    \n",
    "    return accuracy\n",
    "\n",
    "# Entrenar cada modelo y mostrar los resultados de precisión\n",
    "for model_name, model in models.items():\n",
    "    accuracy = train_model(model, X, y)\n",
    "    print(f'Accuracy of {model_name}: {accuracy:.4f}')\n"
   ]
  }
 ],
 "metadata": {
  "kernelspec": {
   "display_name": "model-training-XxqnHruL-py3.12",
   "language": "python",
   "name": "python3"
  },
  "language_info": {
   "codemirror_mode": {
    "name": "ipython",
    "version": 3
   },
   "file_extension": ".py",
   "mimetype": "text/x-python",
   "name": "python",
   "nbconvert_exporter": "python",
   "pygments_lexer": "ipython3",
   "version": "3.12.6"
  }
 },
 "nbformat": 4,
 "nbformat_minor": 2
}
