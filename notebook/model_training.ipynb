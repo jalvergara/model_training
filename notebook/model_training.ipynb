{
 "cells": [
  {
   "cell_type": "markdown",
   "metadata": {},
   "source": [
    "MODEL TRAINING"
   ]
  },
  {
   "cell_type": "code",
   "execution_count": 43,
   "metadata": {},
   "outputs": [],
   "source": [
    "import pandas as pd\n",
    "import numpy as np\n",
    "import json\n",
    "from sklearn.ensemble import RandomForestClassifier, GradientBoostingClassifier\n",
    "from sklearn.neighbors import KNeighborsClassifier\n",
    "from sklearn.linear_model import LogisticRegression\n",
    "from sklearn.metrics import classification_report, accuracy_score, roc_auc_score\n",
    "from sklearn.model_selection import train_test_split\n",
    "from xgboost import XGBClassifier\n",
    "from sklearn.linear_model import LogisticRegression\n",
    "from sklearn.metrics import accuracy_score\n",
    "import joblib"
   ]
  },
  {
   "cell_type": "markdown",
   "metadata": {},
   "source": [
    "Leemos el dataset limpio"
   ]
  },
  {
   "cell_type": "code",
   "execution_count": 18,
   "metadata": {},
   "outputs": [],
   "source": [
    "df = pd.read_csv('../data/MLA_100k_clean.csv')\n"
   ]
  },
  {
   "cell_type": "code",
   "execution_count": 19,
   "metadata": {},
   "outputs": [
    {
     "data": {
      "text/html": [
       "<div>\n",
       "<style scoped>\n",
       "    .dataframe tbody tr th:only-of-type {\n",
       "        vertical-align: middle;\n",
       "    }\n",
       "\n",
       "    .dataframe tbody tr th {\n",
       "        vertical-align: top;\n",
       "    }\n",
       "\n",
       "    .dataframe thead th {\n",
       "        text-align: right;\n",
       "    }\n",
       "</style>\n",
       "<table border=\"1\" class=\"dataframe\">\n",
       "  <thead>\n",
       "    <tr style=\"text-align: right;\">\n",
       "      <th></th>\n",
       "      <th>condition</th>\n",
       "      <th>base_price</th>\n",
       "      <th>shipping</th>\n",
       "      <th>non_mercado_pago_payment_methods</th>\n",
       "      <th>price</th>\n",
       "      <th>buying_mode</th>\n",
       "      <th>descriptions</th>\n",
       "      <th>last_updated</th>\n",
       "      <th>accepts_mercadopago</th>\n",
       "      <th>date_created</th>\n",
       "      <th>stop_time</th>\n",
       "      <th>status</th>\n",
       "      <th>initial_quantity</th>\n",
       "      <th>start_time</th>\n",
       "      <th>sold_quantity</th>\n",
       "      <th>available_quantity</th>\n",
       "    </tr>\n",
       "  </thead>\n",
       "  <tbody>\n",
       "    <tr>\n",
       "      <th>0</th>\n",
       "      <td>new</td>\n",
       "      <td>80.0</td>\n",
       "      <td>{'local_pick_up': True, 'methods': [], 'tags':...</td>\n",
       "      <td>[{'description': 'Transferencia bancaria', 'id...</td>\n",
       "      <td>80.0</td>\n",
       "      <td>buy_it_now</td>\n",
       "      <td>[{'id': 'MLA578052519-912855983'}]</td>\n",
       "      <td>20150905</td>\n",
       "      <td>True</td>\n",
       "      <td>20150905</td>\n",
       "      <td>20151104</td>\n",
       "      <td>active</td>\n",
       "      <td>1</td>\n",
       "      <td>20150905</td>\n",
       "      <td>0</td>\n",
       "      <td>1</td>\n",
       "    </tr>\n",
       "    <tr>\n",
       "      <th>1</th>\n",
       "      <td>used</td>\n",
       "      <td>2650.0</td>\n",
       "      <td>{'local_pick_up': True, 'methods': [], 'tags':...</td>\n",
       "      <td>[{'description': 'Transferencia bancaria', 'id...</td>\n",
       "      <td>2650.0</td>\n",
       "      <td>buy_it_now</td>\n",
       "      <td>[{'id': 'MLA581565358-930764806'}]</td>\n",
       "      <td>20150926</td>\n",
       "      <td>True</td>\n",
       "      <td>20150926</td>\n",
       "      <td>20151125</td>\n",
       "      <td>active</td>\n",
       "      <td>1</td>\n",
       "      <td>20150926</td>\n",
       "      <td>0</td>\n",
       "      <td>1</td>\n",
       "    </tr>\n",
       "    <tr>\n",
       "      <th>2</th>\n",
       "      <td>used</td>\n",
       "      <td>60.0</td>\n",
       "      <td>{'local_pick_up': True, 'methods': [], 'tags':...</td>\n",
       "      <td>[{'description': 'Transferencia bancaria', 'id...</td>\n",
       "      <td>60.0</td>\n",
       "      <td>buy_it_now</td>\n",
       "      <td>[{'id': 'MLA578780872-916478256'}]</td>\n",
       "      <td>20150909</td>\n",
       "      <td>True</td>\n",
       "      <td>20150909</td>\n",
       "      <td>20151108</td>\n",
       "      <td>active</td>\n",
       "      <td>1</td>\n",
       "      <td>20150909</td>\n",
       "      <td>0</td>\n",
       "      <td>1</td>\n",
       "    </tr>\n",
       "    <tr>\n",
       "      <th>3</th>\n",
       "      <td>new</td>\n",
       "      <td>580.0</td>\n",
       "      <td>{'local_pick_up': True, 'methods': [], 'tags':...</td>\n",
       "      <td>[{'description': 'Transferencia bancaria', 'id...</td>\n",
       "      <td>580.0</td>\n",
       "      <td>buy_it_now</td>\n",
       "      <td>[{'id': 'MLA581877385-932309698'}]</td>\n",
       "      <td>20151005</td>\n",
       "      <td>True</td>\n",
       "      <td>20150928</td>\n",
       "      <td>20151204</td>\n",
       "      <td>active</td>\n",
       "      <td>1</td>\n",
       "      <td>20150928</td>\n",
       "      <td>0</td>\n",
       "      <td>1</td>\n",
       "    </tr>\n",
       "    <tr>\n",
       "      <th>4</th>\n",
       "      <td>used</td>\n",
       "      <td>30.0</td>\n",
       "      <td>{'local_pick_up': True, 'methods': [], 'tags':...</td>\n",
       "      <td>[{'description': 'Transferencia bancaria', 'id...</td>\n",
       "      <td>30.0</td>\n",
       "      <td>buy_it_now</td>\n",
       "      <td>[{'id': 'MLA576112692-902981678'}]</td>\n",
       "      <td>20150828</td>\n",
       "      <td>True</td>\n",
       "      <td>20150824</td>\n",
       "      <td>20151023</td>\n",
       "      <td>active</td>\n",
       "      <td>1</td>\n",
       "      <td>20150824</td>\n",
       "      <td>0</td>\n",
       "      <td>1</td>\n",
       "    </tr>\n",
       "  </tbody>\n",
       "</table>\n",
       "</div>"
      ],
      "text/plain": [
       "  condition  base_price                                           shipping  \\\n",
       "0       new        80.0  {'local_pick_up': True, 'methods': [], 'tags':...   \n",
       "1      used      2650.0  {'local_pick_up': True, 'methods': [], 'tags':...   \n",
       "2      used        60.0  {'local_pick_up': True, 'methods': [], 'tags':...   \n",
       "3       new       580.0  {'local_pick_up': True, 'methods': [], 'tags':...   \n",
       "4      used        30.0  {'local_pick_up': True, 'methods': [], 'tags':...   \n",
       "\n",
       "                    non_mercado_pago_payment_methods   price buying_mode  \\\n",
       "0  [{'description': 'Transferencia bancaria', 'id...    80.0  buy_it_now   \n",
       "1  [{'description': 'Transferencia bancaria', 'id...  2650.0  buy_it_now   \n",
       "2  [{'description': 'Transferencia bancaria', 'id...    60.0  buy_it_now   \n",
       "3  [{'description': 'Transferencia bancaria', 'id...   580.0  buy_it_now   \n",
       "4  [{'description': 'Transferencia bancaria', 'id...    30.0  buy_it_now   \n",
       "\n",
       "                         descriptions  last_updated  accepts_mercadopago  \\\n",
       "0  [{'id': 'MLA578052519-912855983'}]      20150905                 True   \n",
       "1  [{'id': 'MLA581565358-930764806'}]      20150926                 True   \n",
       "2  [{'id': 'MLA578780872-916478256'}]      20150909                 True   \n",
       "3  [{'id': 'MLA581877385-932309698'}]      20151005                 True   \n",
       "4  [{'id': 'MLA576112692-902981678'}]      20150828                 True   \n",
       "\n",
       "   date_created  stop_time  status  initial_quantity  start_time  \\\n",
       "0      20150905   20151104  active                 1    20150905   \n",
       "1      20150926   20151125  active                 1    20150926   \n",
       "2      20150909   20151108  active                 1    20150909   \n",
       "3      20150928   20151204  active                 1    20150928   \n",
       "4      20150824   20151023  active                 1    20150824   \n",
       "\n",
       "   sold_quantity  available_quantity  \n",
       "0              0                   1  \n",
       "1              0                   1  \n",
       "2              0                   1  \n",
       "3              0                   1  \n",
       "4              0                   1  "
      ]
     },
     "execution_count": 19,
     "metadata": {},
     "output_type": "execute_result"
    }
   ],
   "source": [
    "df.head()"
   ]
  },
  {
   "cell_type": "markdown",
   "metadata": {},
   "source": [
    "generar los modelos de predicción utilizando diferentes algoritmos: Regresión Logística, RandomForestClassifier, y XGBClassifier. "
   ]
  },
  {
   "cell_type": "code",
   "execution_count": 30,
   "metadata": {},
   "outputs": [],
   "source": [
    "# Definir X e y\n",
    "X = df.drop('condition', axis=1)  # Ajusta el target a 'condition'\n",
    "y = df['condition']\n",
    "\n",
    "# Eliminar columnas no numéricas o complejas\n",
    "X = X.drop(columns=['shipping', 'non_mercado_pago_payment_methods', 'descriptions'], errors='ignore')\n",
    "\n",
    "# Aplicar One-Hot Encoding a las columnas categóricas\n",
    "X = pd.get_dummies(X)\n",
    "\n",
    "# Dividir el dataset en entrenamiento y prueba\n",
    "X_train, X_test, y_train, y_test = train_test_split(X, y, test_size=0.2, random_state=42)"
   ]
  },
  {
   "cell_type": "code",
   "execution_count": 32,
   "metadata": {},
   "outputs": [
    {
     "name": "stderr",
     "output_type": "stream",
     "text": [
      "c:\\Users\\MAFE\\AppData\\Local\\Programs\\Python\\Python312\\Lib\\site-packages\\xgboost\\core.py:158: UserWarning: [18:10:45] WARNING: C:\\buildkite-agent\\builds\\buildkite-windows-cpu-autoscaling-group-i-0015a694724fa8361-1\\xgboost\\xgboost-ci-windows\\src\\learner.cc:740: \n",
      "Parameters: { \"use_label_encoder\" } are not used.\n",
      "\n",
      "  warnings.warn(smsg, UserWarning)\n"
     ]
    },
    {
     "name": "stdout",
     "output_type": "stream",
     "text": [
      "Accuracy XGBoost: 0.78175\n"
     ]
    }
   ],
   "source": [
    "# Convertir las clases categóricas 'new' y 'used' a valores numéricos\n",
    "y = y.map({'new': 1, 'used': 0})\n",
    "\n",
    "# Dividir los datos en conjunto de entrenamiento y prueba\n",
    "X_train, X_test, y_train, y_test = train_test_split(X, y, test_size=0.2, random_state=42)\n",
    "\n",
    "# Crear y entrenar el modelo XGBoost\n",
    "xgb_clf = XGBClassifier(use_label_encoder=False, eval_metric='mlogloss')\n",
    "xgb_clf.fit(X_train, y_train)\n",
    "\n",
    "# Hacer predicciones con XGBoost\n",
    "y_pred_xgb = xgb_clf.predict(X_test)\n",
    "\n",
    "# Evaluar el modelo\n",
    "accuracy_xgb = accuracy_score(y_test, y_pred_xgb)\n",
    "print(f'Accuracy XGBoost: {accuracy_xgb}')\n"
   ]
  },
  {
   "cell_type": "markdown",
   "metadata": {},
   "source": [
    "#### Entrenamos los Modelos"
   ]
  },
  {
   "cell_type": "markdown",
   "metadata": {},
   "source": [
    "1. Regresión Logística\n"
   ]
  },
  {
   "cell_type": "code",
   "execution_count": 33,
   "metadata": {},
   "outputs": [
    {
     "name": "stdout",
     "output_type": "stream",
     "text": [
      "base_price                float64\n",
      "price                     float64\n",
      "last_updated                int64\n",
      "accepts_mercadopago          bool\n",
      "date_created                int64\n",
      "stop_time                   int64\n",
      "initial_quantity            int64\n",
      "start_time                  int64\n",
      "sold_quantity               int64\n",
      "available_quantity          int64\n",
      "buying_mode_auction          bool\n",
      "buying_mode_buy_it_now       bool\n",
      "buying_mode_classified       bool\n",
      "status_active                bool\n",
      "status_closed                bool\n",
      "status_not_yet_active        bool\n",
      "status_paused                bool\n",
      "dtype: object\n"
     ]
    }
   ],
   "source": [
    "# Verifica si hay columnas con datos categóricos\n",
    "print(X.dtypes)\n",
    "\n",
    "# Si hay columnas categóricas, puedes usar One-Hot Encoding\n",
    "X = pd.get_dummies(X)\n"
   ]
  },
  {
   "cell_type": "code",
   "execution_count": 38,
   "metadata": {},
   "outputs": [
    {
     "name": "stdout",
     "output_type": "stream",
     "text": [
      "Accuracy Logistic Regression: 0.7095\n"
     ]
    }
   ],
   "source": [
    "# Crear el modelo de Regresión Logística\n",
    "log_reg = LogisticRegression(max_iter=1000)\n",
    "log_reg.fit(X_train, y_train)\n",
    "\n",
    "# Hacer predicciones con Regresión Logística\n",
    "y_pred_log = log_reg.predict(X_test)\n",
    "accuracy_log = accuracy_score(y_test, y_pred_log)\n",
    "print(f'Accuracy Logistic Regression: {accuracy_log}')"
   ]
  },
  {
   "cell_type": "markdown",
   "metadata": {},
   "source": [
    "RandomForestClassifier"
   ]
  },
  {
   "cell_type": "code",
   "execution_count": 39,
   "metadata": {},
   "outputs": [
    {
     "name": "stdout",
     "output_type": "stream",
     "text": [
      "Accuracy Random Forest: 0.76875\n"
     ]
    }
   ],
   "source": [
    "# Crear el modelo Random Forest\n",
    "rf_clf = RandomForestClassifier(n_estimators=100, random_state=42)\n",
    "\n",
    "# Entrenar el modelo\n",
    "rf_clf.fit(X_train, y_train)\n",
    "\n",
    "# Hacer predicciones\n",
    "y_pred_rf = rf_clf.predict(X_test)\n",
    "\n",
    "# Evaluar el modelo\n",
    "accuracy_rf = accuracy_score(y_test, y_pred_rf)\n",
    "print(f'Accuracy Random Forest: {accuracy_rf}')\n"
   ]
  },
  {
   "cell_type": "markdown",
   "metadata": {},
   "source": [
    "XGBClassifier"
   ]
  },
  {
   "cell_type": "code",
   "execution_count": 40,
   "metadata": {},
   "outputs": [
    {
     "name": "stderr",
     "output_type": "stream",
     "text": [
      "c:\\Users\\MAFE\\AppData\\Local\\Programs\\Python\\Python312\\Lib\\site-packages\\xgboost\\core.py:158: UserWarning: [18:14:09] WARNING: C:\\buildkite-agent\\builds\\buildkite-windows-cpu-autoscaling-group-i-0015a694724fa8361-1\\xgboost\\xgboost-ci-windows\\src\\learner.cc:740: \n",
      "Parameters: { \"use_label_encoder\" } are not used.\n",
      "\n",
      "  warnings.warn(smsg, UserWarning)\n"
     ]
    },
    {
     "name": "stdout",
     "output_type": "stream",
     "text": [
      "Accuracy XGBoost: 0.78175\n"
     ]
    }
   ],
   "source": [
    "# Crear el modelo XGBoost\n",
    "xgb_clf = XGBClassifier(use_label_encoder=False, eval_metric='mlogloss')\n",
    "\n",
    "# Entrenar el modelo\n",
    "xgb_clf.fit(X_train, y_train)\n",
    "\n",
    "# Hacer predicciones\n",
    "y_pred_xgb = xgb_clf.predict(X_test)\n",
    "\n",
    "# Evaluar el modelo\n",
    "accuracy_xgb = accuracy_score(y_test, y_pred_xgb)\n",
    "print(f'Accuracy XGBoost: {accuracy_xgb}')\n"
   ]
  },
  {
   "cell_type": "markdown",
   "metadata": {},
   "source": [
    "Comparar los resultados"
   ]
  },
  {
   "cell_type": "code",
   "execution_count": 41,
   "metadata": {},
   "outputs": [
    {
     "name": "stdout",
     "output_type": "stream",
     "text": [
      "Accuracy Logistic Regression: 0.7095\n",
      "Accuracy Random Forest: 0.76875\n",
      "Accuracy XGBoost: 0.78175\n"
     ]
    }
   ],
   "source": [
    "print(f'Accuracy Logistic Regression: {accuracy_log}')\n",
    "print(f'Accuracy Random Forest: {accuracy_rf}')\n",
    "print(f'Accuracy XGBoost: {accuracy_xgb}')\n"
   ]
  },
  {
   "cell_type": "markdown",
   "metadata": {},
   "source": [
    "otras metricas de evaluación"
   ]
  },
  {
   "cell_type": "code",
   "execution_count": 42,
   "metadata": {},
   "outputs": [
    {
     "name": "stdout",
     "output_type": "stream",
     "text": [
      "Logistic Regression Report\n",
      "              precision    recall  f1-score   support\n",
      "\n",
      "           0       0.62      0.95      0.75      9283\n",
      "           1       0.92      0.50      0.65     10717\n",
      "\n",
      "    accuracy                           0.71     20000\n",
      "   macro avg       0.77      0.73      0.70     20000\n",
      "weighted avg       0.78      0.71      0.70     20000\n",
      "\n",
      "Random Forest Report\n",
      "              precision    recall  f1-score   support\n",
      "\n",
      "           0       0.72      0.81      0.76      9283\n",
      "           1       0.82      0.73      0.77     10717\n",
      "\n",
      "    accuracy                           0.77     20000\n",
      "   macro avg       0.77      0.77      0.77     20000\n",
      "weighted avg       0.77      0.77      0.77     20000\n",
      "\n",
      "XGBoost Report\n",
      "              precision    recall  f1-score   support\n",
      "\n",
      "           0       0.73      0.85      0.78      9283\n",
      "           1       0.85      0.72      0.78     10717\n",
      "\n",
      "    accuracy                           0.78     20000\n",
      "   macro avg       0.79      0.79      0.78     20000\n",
      "weighted avg       0.79      0.78      0.78     20000\n",
      "\n"
     ]
    }
   ],
   "source": [
    "from sklearn.metrics import classification_report\n",
    "\n",
    "# Evaluación para Regresión Logística\n",
    "print(\"Logistic Regression Report\")\n",
    "print(classification_report(y_test, y_pred_log))\n",
    "\n",
    "# Evaluación para Random Forest\n",
    "print(\"Random Forest Report\")\n",
    "print(classification_report(y_test, y_pred_rf))\n",
    "\n",
    "# Evaluación para XGBoost\n",
    "print(\"XGBoost Report\")\n",
    "print(classification_report(y_test, y_pred_xgb))\n"
   ]
  },
  {
   "cell_type": "markdown",
   "metadata": {},
   "source": [
    "Despues de entrenar los tres modelos: Regresión Logística, RandomForestClassifier, y XGBClassifier. Para seleccionar el mejor, usamos la métrica de accuracy.\n",
    "\n",
    "En este caso el modelo de XGBoost ha tenido el mejor rendimiento en términos de accuracy y otras métricas. (0.78175)"
   ]
  },
  {
   "cell_type": "markdown",
   "metadata": {},
   "source": [
    "### Guardar el modelo XGBoost como archivo .pkl"
   ]
  },
  {
   "cell_type": "code",
   "execution_count": 45,
   "metadata": {},
   "outputs": [
    {
     "name": "stdout",
     "output_type": "stream",
     "text": [
      "Modelo XGBoost guardado como 'modelo_xgboost.pkl'\n"
     ]
    }
   ],
   "source": [
    "joblib.dump(xgb_clf, '../Model/modelo_xgboost.pkl')\n",
    "\n",
    "print(\"Modelo XGBoost guardado como 'modelo_xgboost.pkl'\")"
   ]
  }
 ],
 "metadata": {
  "kernelspec": {
   "display_name": "Python 3",
   "language": "python",
   "name": "python3"
  },
  "language_info": {
   "codemirror_mode": {
    "name": "ipython",
    "version": 3
   },
   "file_extension": ".py",
   "mimetype": "text/x-python",
   "name": "python",
   "nbconvert_exporter": "python",
   "pygments_lexer": "ipython3",
   "version": "3.12.6"
  }
 },
 "nbformat": 4,
 "nbformat_minor": 2
}
