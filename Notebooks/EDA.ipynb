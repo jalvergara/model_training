{
 "cells": [
  {
   "cell_type": "markdown",
   "metadata": {},
   "source": [
    "<h1 color=#009d71> EDA </h1>"
   ]
  },
  {
   "cell_type": "code",
   "execution_count": 1,
   "metadata": {},
   "outputs": [],
   "source": [
    "import json\n",
    "import os\n",
    "import re\n",
    "import pandas as pd\n",
    "import matplotlib.pyplot as plt\n",
    "\n"
   ]
  },
  {
   "cell_type": "code",
   "execution_count": 2,
   "metadata": {},
   "outputs": [
    {
     "name": "stdout",
     "output_type": "stream",
     "text": [
      "{\"seller_address\": {\"comment\": \"\", \"longitude\": -58.3986709, \"id\": 78162842, \"country\": {\"name\": \"Argentina\", \"id\": \"AR\"}, \"address_line\": \"\", \"latitude\": -34.6280698, \"search_location\": {\"neighborhood\": {\"name\": \"San Crist\\u00f3bal\", \"id\": \"TUxBQlNBTjkwNTZa\"}, \"state\": {\"name\": \"Capital Federal\", \"id\": \"TUxBUENBUGw3M2E1\"}, \"city\": {\"name\": \"Capital Federal\", \"id\": \"TUxBQ0NBUGZlZG1sYQ\"}}, \"zip_code\": \"\", \"city\": {\"name\": \"San Crist\\u00f3bal\", \"id\": \"TUxBQlNBTjkwNTZa\"}, \"state\": {\"name\": \"Capital Federal\", \"id\": \"AR-C\"}}, \"warranty\": null, \"sub_status\": [], \"condition\": \"new\", \"seller_contact\": null, \"deal_ids\": [], \"base_price\": 80, \"shipping\": {\"local_pick_up\": true, \"methods\": [], \"tags\": [], \"free_shipping\": false, \"mode\": \"not_specified\", \"dimensions\": null}, \"non_mercado_pago_payment_methods\": [{\"description\": \"Transferencia bancaria\", \"id\": \"MLATB\", \"type\": \"G\"}, {\"description\": \"Acordar con el comprador\", \"id\": \"MLAWC\", \"type\": \"G\"}, {\"description\": \"Efectivo\", \"id\": \"MLAMO\", \"type\": \"G\"}], \"seller_id\": 74952096, \"variations\": [], \"location\": {}, \"site_id\": \"MLA\", \"listing_type_id\": \"bronze\", \"price\": 80, \"attributes\": [], \"buying_mode\": \"buy_it_now\", \"tags\": [\"dragged_bids_and_visits\"], \"listing_source\": \"\", \"parent_item_id\": \"MLA568261029\", \"coverage_areas\": [], \"category_id\": \"MLA126406\", \"descriptions\": [{\"id\": \"MLA578052519-912855983\"}], \"last_updated\": \"2015-09-05T20:42:58.000Z\", \"international_delivery_mode\": \"none\", \"pictures\": [{\"size\": \"500x375\", \"secure_url\": \"https://a248.e.akamai.net/mla-s1-p.mlstatic.com/5386-MLA4352067878_052013-O.jpg\", \"max_size\": \"1200x900\", \"url\": \"http://mla-s1-p.mlstatic.com/5386-MLA4352067878_052013-O.jpg\", \"quality\": \"\", \"id\": \"5386-MLA4352067878_052013\"}, {\"size\": \"500x375\", \"secure_url\": \"https://a248.e.akamai.net/mla-s1-p.mlstatic.com/5361-MLA4352068035_052013-O.jpg\", \"max_size\": \"1200x900\", \"url\": \"http://mla-s1-p.mlstatic.com/5361-MLA4352068035_052013-O.jpg\", \"quality\": \"\", \"id\": \"5361-MLA4352068035_052013\"}], \"id\": \"MLA578052519\", \"official_store_id\": null, \"differential_pricing\": null, \"accepts_mercadopago\": true, \"original_price\": null, \"currency_id\": \"ARS\", \"thumbnail\": \"http://mla-s1-p.mlstatic.com/5386-MLA4352067878_052013-I.jpg\", \"title\": \"Auriculares Samsung Originales Manos Libres Cable Usb Oferta\", \"automatic_relist\": false, \"date_created\": \"2015-09-05T20:42:53.000Z\", \"secure_thumbnail\": \"https://a248.e.akamai.net/mla-s1-p.mlstatic.com/5386-MLA4352067878_052013-I.jpg\", \"stop_time\": \"2015-11-04T20:42:53.000Z\", \"status\": \"active\", \"video_id\": null, \"catalog_product_id\": null, \"subtitle\": null, \"initial_quantity\": 1, \"start_time\": \"2015-09-05T20:42:53.000Z\", \"permalink\": \"http://articulo.mercadolibre.com.ar/MLA-578052519-auriculares-samsung-originales-manos-libres-cable-usb-oferta-_JM\", \"geolocation\": {\"latitude\": -34.6280698, \"longitude\": -58.3986709}, \"sold_quantity\": 0, \"available_quantity\": 1}\n",
      "\n"
     ]
    }
   ],
   "source": [
    "with open(\"../Data/MLA_100k.jsonlines\") as jsonfile:\n",
    "    line = jsonfile.readline()\n",
    "    print(line)"
   ]
  },
  {
   "cell_type": "code",
   "execution_count": 3,
   "metadata": {},
   "outputs": [],
   "source": [
    "df = pd.read_json(\"../Data/MLA_100k.jsonlines\", lines=True, encoding='utf-8')\n"
   ]
  },
  {
   "cell_type": "code",
   "execution_count": 4,
   "metadata": {},
   "outputs": [
    {
     "data": {
      "text/html": [
       "<div>\n",
       "<style scoped>\n",
       "    .dataframe tbody tr th:only-of-type {\n",
       "        vertical-align: middle;\n",
       "    }\n",
       "\n",
       "    .dataframe tbody tr th {\n",
       "        vertical-align: top;\n",
       "    }\n",
       "\n",
       "    .dataframe thead th {\n",
       "        text-align: right;\n",
       "    }\n",
       "</style>\n",
       "<table border=\"1\" class=\"dataframe\">\n",
       "  <thead>\n",
       "    <tr style=\"text-align: right;\">\n",
       "      <th></th>\n",
       "      <th>seller_address</th>\n",
       "      <th>warranty</th>\n",
       "      <th>sub_status</th>\n",
       "      <th>condition</th>\n",
       "      <th>seller_contact</th>\n",
       "      <th>deal_ids</th>\n",
       "      <th>base_price</th>\n",
       "      <th>shipping</th>\n",
       "      <th>non_mercado_pago_payment_methods</th>\n",
       "      <th>seller_id</th>\n",
       "      <th>...</th>\n",
       "      <th>status</th>\n",
       "      <th>video_id</th>\n",
       "      <th>catalog_product_id</th>\n",
       "      <th>subtitle</th>\n",
       "      <th>initial_quantity</th>\n",
       "      <th>start_time</th>\n",
       "      <th>permalink</th>\n",
       "      <th>geolocation</th>\n",
       "      <th>sold_quantity</th>\n",
       "      <th>available_quantity</th>\n",
       "    </tr>\n",
       "  </thead>\n",
       "  <tbody>\n",
       "    <tr>\n",
       "      <th>0</th>\n",
       "      <td>{'comment': '', 'longitude': -58.3986709, 'id'...</td>\n",
       "      <td>None</td>\n",
       "      <td>[]</td>\n",
       "      <td>new</td>\n",
       "      <td>None</td>\n",
       "      <td>[]</td>\n",
       "      <td>80.0</td>\n",
       "      <td>{'local_pick_up': True, 'methods': [], 'tags':...</td>\n",
       "      <td>[{'description': 'Transferencia bancaria', 'id...</td>\n",
       "      <td>74952096</td>\n",
       "      <td>...</td>\n",
       "      <td>active</td>\n",
       "      <td>None</td>\n",
       "      <td>NaN</td>\n",
       "      <td>NaN</td>\n",
       "      <td>1</td>\n",
       "      <td>2015-09-05 20:42:53+00:00</td>\n",
       "      <td>http://articulo.mercadolibre.com.ar/MLA-578052...</td>\n",
       "      <td>{'latitude': -34.6280698, 'longitude': -58.398...</td>\n",
       "      <td>0</td>\n",
       "      <td>1</td>\n",
       "    </tr>\n",
       "    <tr>\n",
       "      <th>1</th>\n",
       "      <td>{'comment': '', 'longitude': -58.5059173, 'id'...</td>\n",
       "      <td>NUESTRA REPUTACION</td>\n",
       "      <td>[]</td>\n",
       "      <td>used</td>\n",
       "      <td>None</td>\n",
       "      <td>[]</td>\n",
       "      <td>2650.0</td>\n",
       "      <td>{'local_pick_up': True, 'methods': [], 'tags':...</td>\n",
       "      <td>[{'description': 'Transferencia bancaria', 'id...</td>\n",
       "      <td>42093335</td>\n",
       "      <td>...</td>\n",
       "      <td>active</td>\n",
       "      <td>None</td>\n",
       "      <td>NaN</td>\n",
       "      <td>NaN</td>\n",
       "      <td>1</td>\n",
       "      <td>2015-09-26 18:08:30+00:00</td>\n",
       "      <td>http://articulo.mercadolibre.com.ar/MLA-581565...</td>\n",
       "      <td>{'latitude': -34.5935524, 'longitude': -58.505...</td>\n",
       "      <td>0</td>\n",
       "      <td>1</td>\n",
       "    </tr>\n",
       "    <tr>\n",
       "      <th>2</th>\n",
       "      <td>{'comment': '', 'longitude': -58.4143948, 'id'...</td>\n",
       "      <td>None</td>\n",
       "      <td>[]</td>\n",
       "      <td>used</td>\n",
       "      <td>None</td>\n",
       "      <td>[]</td>\n",
       "      <td>60.0</td>\n",
       "      <td>{'local_pick_up': True, 'methods': [], 'tags':...</td>\n",
       "      <td>[{'description': 'Transferencia bancaria', 'id...</td>\n",
       "      <td>133384258</td>\n",
       "      <td>...</td>\n",
       "      <td>active</td>\n",
       "      <td>None</td>\n",
       "      <td>NaN</td>\n",
       "      <td>NaN</td>\n",
       "      <td>1</td>\n",
       "      <td>2015-09-09 23:57:07+00:00</td>\n",
       "      <td>http://articulo.mercadolibre.com.ar/MLA-578780...</td>\n",
       "      <td>{'latitude': -34.6233907, 'longitude': -58.414...</td>\n",
       "      <td>0</td>\n",
       "      <td>1</td>\n",
       "    </tr>\n",
       "    <tr>\n",
       "      <th>3</th>\n",
       "      <td>{'comment': '', 'longitude': -58.4929208, 'id'...</td>\n",
       "      <td>None</td>\n",
       "      <td>[]</td>\n",
       "      <td>new</td>\n",
       "      <td>None</td>\n",
       "      <td>[]</td>\n",
       "      <td>580.0</td>\n",
       "      <td>{'local_pick_up': True, 'methods': [], 'tags':...</td>\n",
       "      <td>[{'description': 'Transferencia bancaria', 'id...</td>\n",
       "      <td>143001605</td>\n",
       "      <td>...</td>\n",
       "      <td>active</td>\n",
       "      <td>None</td>\n",
       "      <td>NaN</td>\n",
       "      <td>NaN</td>\n",
       "      <td>1</td>\n",
       "      <td>2015-09-28 18:47:56+00:00</td>\n",
       "      <td>http://articulo.mercadolibre.com.ar/MLA-581877...</td>\n",
       "      <td>{'latitude': -34.6281894, 'longitude': -58.492...</td>\n",
       "      <td>0</td>\n",
       "      <td>1</td>\n",
       "    </tr>\n",
       "    <tr>\n",
       "      <th>4</th>\n",
       "      <td>{'comment': '', 'longitude': -58.5495042, 'id'...</td>\n",
       "      <td>MI REPUTACION.</td>\n",
       "      <td>[]</td>\n",
       "      <td>used</td>\n",
       "      <td>None</td>\n",
       "      <td>[]</td>\n",
       "      <td>30.0</td>\n",
       "      <td>{'local_pick_up': True, 'methods': [], 'tags':...</td>\n",
       "      <td>[{'description': 'Transferencia bancaria', 'id...</td>\n",
       "      <td>96873449</td>\n",
       "      <td>...</td>\n",
       "      <td>active</td>\n",
       "      <td>None</td>\n",
       "      <td>NaN</td>\n",
       "      <td>NaN</td>\n",
       "      <td>1</td>\n",
       "      <td>2015-08-24 22:07:20+00:00</td>\n",
       "      <td>http://articulo.mercadolibre.com.ar/MLA-576112...</td>\n",
       "      <td>{'latitude': -34.6346547, 'longitude': -58.549...</td>\n",
       "      <td>0</td>\n",
       "      <td>1</td>\n",
       "    </tr>\n",
       "  </tbody>\n",
       "</table>\n",
       "<p>5 rows × 48 columns</p>\n",
       "</div>"
      ],
      "text/plain": [
       "                                      seller_address            warranty  \\\n",
       "0  {'comment': '', 'longitude': -58.3986709, 'id'...                None   \n",
       "1  {'comment': '', 'longitude': -58.5059173, 'id'...  NUESTRA REPUTACION   \n",
       "2  {'comment': '', 'longitude': -58.4143948, 'id'...                None   \n",
       "3  {'comment': '', 'longitude': -58.4929208, 'id'...                None   \n",
       "4  {'comment': '', 'longitude': -58.5495042, 'id'...      MI REPUTACION.   \n",
       "\n",
       "  sub_status condition seller_contact deal_ids  base_price  \\\n",
       "0         []       new           None       []        80.0   \n",
       "1         []      used           None       []      2650.0   \n",
       "2         []      used           None       []        60.0   \n",
       "3         []       new           None       []       580.0   \n",
       "4         []      used           None       []        30.0   \n",
       "\n",
       "                                            shipping  \\\n",
       "0  {'local_pick_up': True, 'methods': [], 'tags':...   \n",
       "1  {'local_pick_up': True, 'methods': [], 'tags':...   \n",
       "2  {'local_pick_up': True, 'methods': [], 'tags':...   \n",
       "3  {'local_pick_up': True, 'methods': [], 'tags':...   \n",
       "4  {'local_pick_up': True, 'methods': [], 'tags':...   \n",
       "\n",
       "                    non_mercado_pago_payment_methods  seller_id  ...  status  \\\n",
       "0  [{'description': 'Transferencia bancaria', 'id...   74952096  ...  active   \n",
       "1  [{'description': 'Transferencia bancaria', 'id...   42093335  ...  active   \n",
       "2  [{'description': 'Transferencia bancaria', 'id...  133384258  ...  active   \n",
       "3  [{'description': 'Transferencia bancaria', 'id...  143001605  ...  active   \n",
       "4  [{'description': 'Transferencia bancaria', 'id...   96873449  ...  active   \n",
       "\n",
       "  video_id catalog_product_id subtitle  initial_quantity  \\\n",
       "0     None                NaN      NaN                 1   \n",
       "1     None                NaN      NaN                 1   \n",
       "2     None                NaN      NaN                 1   \n",
       "3     None                NaN      NaN                 1   \n",
       "4     None                NaN      NaN                 1   \n",
       "\n",
       "                 start_time  \\\n",
       "0 2015-09-05 20:42:53+00:00   \n",
       "1 2015-09-26 18:08:30+00:00   \n",
       "2 2015-09-09 23:57:07+00:00   \n",
       "3 2015-09-28 18:47:56+00:00   \n",
       "4 2015-08-24 22:07:20+00:00   \n",
       "\n",
       "                                           permalink  \\\n",
       "0  http://articulo.mercadolibre.com.ar/MLA-578052...   \n",
       "1  http://articulo.mercadolibre.com.ar/MLA-581565...   \n",
       "2  http://articulo.mercadolibre.com.ar/MLA-578780...   \n",
       "3  http://articulo.mercadolibre.com.ar/MLA-581877...   \n",
       "4  http://articulo.mercadolibre.com.ar/MLA-576112...   \n",
       "\n",
       "                                         geolocation sold_quantity  \\\n",
       "0  {'latitude': -34.6280698, 'longitude': -58.398...             0   \n",
       "1  {'latitude': -34.5935524, 'longitude': -58.505...             0   \n",
       "2  {'latitude': -34.6233907, 'longitude': -58.414...             0   \n",
       "3  {'latitude': -34.6281894, 'longitude': -58.492...             0   \n",
       "4  {'latitude': -34.6346547, 'longitude': -58.549...             0   \n",
       "\n",
       "  available_quantity  \n",
       "0                  1  \n",
       "1                  1  \n",
       "2                  1  \n",
       "3                  1  \n",
       "4                  1  \n",
       "\n",
       "[5 rows x 48 columns]"
      ]
     },
     "execution_count": 4,
     "metadata": {},
     "output_type": "execute_result"
    }
   ],
   "source": [
    "df.head()"
   ]
  },
  {
   "cell_type": "code",
   "execution_count": 5,
   "metadata": {},
   "outputs": [
    {
     "data": {
      "text/plain": [
       "(100000, 48)"
      ]
     },
     "execution_count": 5,
     "metadata": {},
     "output_type": "execute_result"
    }
   ],
   "source": [
    "df.shape"
   ]
  },
  {
   "cell_type": "code",
   "execution_count": 6,
   "metadata": {},
   "outputs": [
    {
     "name": "stdout",
     "output_type": "stream",
     "text": [
      "<class 'pandas.core.frame.DataFrame'>\n",
      "RangeIndex: 100000 entries, 0 to 99999\n",
      "Data columns (total 48 columns):\n",
      " #   Column                            Non-Null Count   Dtype              \n",
      "---  ------                            --------------   -----              \n",
      " 0   seller_address                    100000 non-null  object             \n",
      " 1   warranty                          39104 non-null   object             \n",
      " 2   sub_status                        100000 non-null  object             \n",
      " 3   condition                         100000 non-null  object             \n",
      " 4   seller_contact                    2219 non-null    object             \n",
      " 5   deal_ids                          100000 non-null  object             \n",
      " 6   base_price                        100000 non-null  float64            \n",
      " 7   shipping                          100000 non-null  object             \n",
      " 8   non_mercado_pago_payment_methods  100000 non-null  object             \n",
      " 9   seller_id                         100000 non-null  int64              \n",
      " 10  variations                        100000 non-null  object             \n",
      " 11  location                          100000 non-null  object             \n",
      " 12  site_id                           100000 non-null  object             \n",
      " 13  listing_type_id                   100000 non-null  object             \n",
      " 14  price                             100000 non-null  float64            \n",
      " 15  attributes                        100000 non-null  object             \n",
      " 16  buying_mode                       100000 non-null  object             \n",
      " 17  tags                              100000 non-null  object             \n",
      " 18  listing_source                    100000 non-null  object             \n",
      " 19  parent_item_id                    76989 non-null   object             \n",
      " 20  coverage_areas                    100000 non-null  object             \n",
      " 21  category_id                       100000 non-null  object             \n",
      " 22  descriptions                      100000 non-null  object             \n",
      " 23  last_updated                      100000 non-null  object             \n",
      " 24  international_delivery_mode       100000 non-null  object             \n",
      " 25  pictures                          100000 non-null  object             \n",
      " 26  id                                100000 non-null  object             \n",
      " 27  official_store_id                 818 non-null     float64            \n",
      " 28  differential_pricing              0 non-null       float64            \n",
      " 29  accepts_mercadopago               100000 non-null  bool               \n",
      " 30  original_price                    143 non-null     float64            \n",
      " 31  currency_id                       100000 non-null  object             \n",
      " 32  thumbnail                         100000 non-null  object             \n",
      " 33  title                             100000 non-null  object             \n",
      " 34  automatic_relist                  100000 non-null  bool               \n",
      " 35  date_created                      100000 non-null  object             \n",
      " 36  secure_thumbnail                  100000 non-null  object             \n",
      " 37  stop_time                         100000 non-null  datetime64[ns, UTC]\n",
      " 38  status                            100000 non-null  object             \n",
      " 39  video_id                          2985 non-null    object             \n",
      " 40  catalog_product_id                11 non-null      float64            \n",
      " 41  subtitle                          0 non-null       float64            \n",
      " 42  initial_quantity                  100000 non-null  int64              \n",
      " 43  start_time                        100000 non-null  datetime64[ns, UTC]\n",
      " 44  permalink                         100000 non-null  object             \n",
      " 45  geolocation                       100000 non-null  object             \n",
      " 46  sold_quantity                     100000 non-null  int64              \n",
      " 47  available_quantity                100000 non-null  int64              \n",
      "dtypes: bool(2), datetime64[ns, UTC](2), float64(7), int64(4), object(33)\n",
      "memory usage: 35.3+ MB\n"
     ]
    }
   ],
   "source": [
    "df.info()"
   ]
  },
  {
   "cell_type": "code",
   "execution_count": 48,
   "metadata": {},
   "outputs": [
    {
     "data": {
      "text/html": [
       "<div>\n",
       "<style scoped>\n",
       "    .dataframe tbody tr th:only-of-type {\n",
       "        vertical-align: middle;\n",
       "    }\n",
       "\n",
       "    .dataframe tbody tr th {\n",
       "        vertical-align: top;\n",
       "    }\n",
       "\n",
       "    .dataframe thead th {\n",
       "        text-align: right;\n",
       "    }\n",
       "</style>\n",
       "<table border=\"1\" class=\"dataframe\">\n",
       "  <thead>\n",
       "    <tr style=\"text-align: right;\">\n",
       "      <th></th>\n",
       "      <th>base_price</th>\n",
       "      <th>seller_id</th>\n",
       "      <th>price</th>\n",
       "      <th>official_store_id</th>\n",
       "      <th>differential_pricing</th>\n",
       "      <th>original_price</th>\n",
       "      <th>catalog_product_id</th>\n",
       "      <th>subtitle</th>\n",
       "      <th>initial_quantity</th>\n",
       "      <th>sold_quantity</th>\n",
       "      <th>available_quantity</th>\n",
       "    </tr>\n",
       "  </thead>\n",
       "  <tbody>\n",
       "    <tr>\n",
       "      <th>count</th>\n",
       "      <td>1.000000e+05</td>\n",
       "      <td>1.000000e+05</td>\n",
       "      <td>1.000000e+05</td>\n",
       "      <td>818.000000</td>\n",
       "      <td>0.0</td>\n",
       "      <td>143.000000</td>\n",
       "      <td>1.100000e+01</td>\n",
       "      <td>0.0</td>\n",
       "      <td>100000.000000</td>\n",
       "      <td>100000.000000</td>\n",
       "      <td>100000.000000</td>\n",
       "    </tr>\n",
       "    <tr>\n",
       "      <th>mean</th>\n",
       "      <td>5.252423e+04</td>\n",
       "      <td>8.425269e+07</td>\n",
       "      <td>5.252433e+04</td>\n",
       "      <td>206.443765</td>\n",
       "      <td>NaN</td>\n",
       "      <td>1593.341958</td>\n",
       "      <td>3.727643e+06</td>\n",
       "      <td>NaN</td>\n",
       "      <td>35.093370</td>\n",
       "      <td>2.396990</td>\n",
       "      <td>34.842380</td>\n",
       "    </tr>\n",
       "    <tr>\n",
       "      <th>std</th>\n",
       "      <td>8.623127e+06</td>\n",
       "      <td>5.497257e+07</td>\n",
       "      <td>8.623127e+06</td>\n",
       "      <td>128.252953</td>\n",
       "      <td>NaN</td>\n",
       "      <td>2245.798072</td>\n",
       "      <td>1.884698e+06</td>\n",
       "      <td>NaN</td>\n",
       "      <td>421.076196</td>\n",
       "      <td>42.685077</td>\n",
       "      <td>420.808403</td>\n",
       "    </tr>\n",
       "    <tr>\n",
       "      <th>min</th>\n",
       "      <td>8.400000e-01</td>\n",
       "      <td>1.304000e+03</td>\n",
       "      <td>8.400000e-01</td>\n",
       "      <td>1.000000</td>\n",
       "      <td>NaN</td>\n",
       "      <td>120.000000</td>\n",
       "      <td>9.440400e+04</td>\n",
       "      <td>NaN</td>\n",
       "      <td>1.000000</td>\n",
       "      <td>0.000000</td>\n",
       "      <td>1.000000</td>\n",
       "    </tr>\n",
       "    <tr>\n",
       "      <th>25%</th>\n",
       "      <td>9.000000e+01</td>\n",
       "      <td>3.953591e+07</td>\n",
       "      <td>9.000000e+01</td>\n",
       "      <td>84.000000</td>\n",
       "      <td>NaN</td>\n",
       "      <td>449.000000</td>\n",
       "      <td>3.050702e+06</td>\n",
       "      <td>NaN</td>\n",
       "      <td>1.000000</td>\n",
       "      <td>0.000000</td>\n",
       "      <td>1.000000</td>\n",
       "    </tr>\n",
       "    <tr>\n",
       "      <th>50%</th>\n",
       "      <td>2.500000e+02</td>\n",
       "      <td>7.631063e+07</td>\n",
       "      <td>2.500000e+02</td>\n",
       "      <td>216.000000</td>\n",
       "      <td>NaN</td>\n",
       "      <td>858.000000</td>\n",
       "      <td>5.093232e+06</td>\n",
       "      <td>NaN</td>\n",
       "      <td>1.000000</td>\n",
       "      <td>0.000000</td>\n",
       "      <td>1.000000</td>\n",
       "    </tr>\n",
       "    <tr>\n",
       "      <th>75%</th>\n",
       "      <td>8.000000e+02</td>\n",
       "      <td>1.325659e+08</td>\n",
       "      <td>8.000000e+02</td>\n",
       "      <td>312.750000</td>\n",
       "      <td>NaN</td>\n",
       "      <td>1500.000000</td>\n",
       "      <td>5.103216e+06</td>\n",
       "      <td>NaN</td>\n",
       "      <td>2.000000</td>\n",
       "      <td>0.000000</td>\n",
       "      <td>2.000000</td>\n",
       "    </tr>\n",
       "    <tr>\n",
       "      <th>max</th>\n",
       "      <td>2.222222e+09</td>\n",
       "      <td>1.946906e+08</td>\n",
       "      <td>2.222222e+09</td>\n",
       "      <td>446.000000</td>\n",
       "      <td>NaN</td>\n",
       "      <td>13999.000000</td>\n",
       "      <td>5.434513e+06</td>\n",
       "      <td>NaN</td>\n",
       "      <td>9999.000000</td>\n",
       "      <td>8676.000000</td>\n",
       "      <td>9999.000000</td>\n",
       "    </tr>\n",
       "  </tbody>\n",
       "</table>\n",
       "</div>"
      ],
      "text/plain": [
       "         base_price     seller_id         price  official_store_id  \\\n",
       "count  1.000000e+05  1.000000e+05  1.000000e+05         818.000000   \n",
       "mean   5.252423e+04  8.425269e+07  5.252433e+04         206.443765   \n",
       "std    8.623127e+06  5.497257e+07  8.623127e+06         128.252953   \n",
       "min    8.400000e-01  1.304000e+03  8.400000e-01           1.000000   \n",
       "25%    9.000000e+01  3.953591e+07  9.000000e+01          84.000000   \n",
       "50%    2.500000e+02  7.631063e+07  2.500000e+02         216.000000   \n",
       "75%    8.000000e+02  1.325659e+08  8.000000e+02         312.750000   \n",
       "max    2.222222e+09  1.946906e+08  2.222222e+09         446.000000   \n",
       "\n",
       "       differential_pricing  original_price  catalog_product_id  subtitle  \\\n",
       "count                   0.0      143.000000        1.100000e+01       0.0   \n",
       "mean                    NaN     1593.341958        3.727643e+06       NaN   \n",
       "std                     NaN     2245.798072        1.884698e+06       NaN   \n",
       "min                     NaN      120.000000        9.440400e+04       NaN   \n",
       "25%                     NaN      449.000000        3.050702e+06       NaN   \n",
       "50%                     NaN      858.000000        5.093232e+06       NaN   \n",
       "75%                     NaN     1500.000000        5.103216e+06       NaN   \n",
       "max                     NaN    13999.000000        5.434513e+06       NaN   \n",
       "\n",
       "       initial_quantity  sold_quantity  available_quantity  \n",
       "count     100000.000000  100000.000000       100000.000000  \n",
       "mean          35.093370       2.396990           34.842380  \n",
       "std          421.076196      42.685077          420.808403  \n",
       "min            1.000000       0.000000            1.000000  \n",
       "25%            1.000000       0.000000            1.000000  \n",
       "50%            1.000000       0.000000            1.000000  \n",
       "75%            2.000000       0.000000            2.000000  \n",
       "max         9999.000000    8676.000000         9999.000000  "
      ]
     },
     "execution_count": 48,
     "metadata": {},
     "output_type": "execute_result"
    }
   ],
   "source": [
    "df.describe()"
   ]
  },
  {
   "cell_type": "code",
   "execution_count": 7,
   "metadata": {},
   "outputs": [
    {
     "data": {
      "text/plain": [
       "Index(['seller_address', 'warranty', 'sub_status', 'condition',\n",
       "       'seller_contact', 'deal_ids', 'base_price', 'shipping',\n",
       "       'non_mercado_pago_payment_methods', 'seller_id', 'variations',\n",
       "       'location', 'site_id', 'listing_type_id', 'price', 'attributes',\n",
       "       'buying_mode', 'tags', 'listing_source', 'parent_item_id',\n",
       "       'coverage_areas', 'category_id', 'descriptions', 'last_updated',\n",
       "       'international_delivery_mode', 'pictures', 'id', 'official_store_id',\n",
       "       'differential_pricing', 'accepts_mercadopago', 'original_price',\n",
       "       'currency_id', 'thumbnail', 'title', 'automatic_relist', 'date_created',\n",
       "       'secure_thumbnail', 'stop_time', 'status', 'video_id',\n",
       "       'catalog_product_id', 'subtitle', 'initial_quantity', 'start_time',\n",
       "       'permalink', 'geolocation', 'sold_quantity', 'available_quantity'],\n",
       "      dtype='object')"
      ]
     },
     "execution_count": 7,
     "metadata": {},
     "output_type": "execute_result"
    }
   ],
   "source": [
    "df.keys()"
   ]
  },
  {
   "cell_type": "code",
   "execution_count": 8,
   "metadata": {},
   "outputs": [],
   "source": [
    "dfkeys = list(df.keys())\n",
    "index_keys =  {f\"{i}\":dfkeys[i] for i in range(len(dfkeys))}\n"
   ]
  },
  {
   "cell_type": "code",
   "execution_count": 9,
   "metadata": {},
   "outputs": [
    {
     "name": "stdout",
     "output_type": "stream",
     "text": [
      "{'0': 'seller_address', '1': 'warranty', '2': 'sub_status', '3': 'condition', '4': 'seller_contact', '5': 'deal_ids', '6': 'base_price', '7': 'shipping', '8': 'non_mercado_pago_payment_methods', '9': 'seller_id', '10': 'variations', '11': 'location', '12': 'site_id', '13': 'listing_type_id', '14': 'price', '15': 'attributes', '16': 'buying_mode', '17': 'tags', '18': 'listing_source', '19': 'parent_item_id', '20': 'coverage_areas', '21': 'category_id', '22': 'descriptions', '23': 'last_updated', '24': 'international_delivery_mode', '25': 'pictures', '26': 'id', '27': 'official_store_id', '28': 'differential_pricing', '29': 'accepts_mercadopago', '30': 'original_price', '31': 'currency_id', '32': 'thumbnail', '33': 'title', '34': 'automatic_relist', '35': 'date_created', '36': 'secure_thumbnail', '37': 'stop_time', '38': 'status', '39': 'video_id', '40': 'catalog_product_id', '41': 'subtitle', '42': 'initial_quantity', '43': 'start_time', '44': 'permalink', '45': 'geolocation', '46': 'sold_quantity', '47': 'available_quantity'}\n"
     ]
    }
   ],
   "source": [
    "print(index_keys)"
   ]
  },
  {
   "cell_type": "code",
   "execution_count": 10,
   "metadata": {},
   "outputs": [
    {
     "name": "stdout",
     "output_type": "stream",
     "text": [
      "0 seller_address\n",
      "1 warranty\n",
      "2 sub_status\n",
      "3 condition\n",
      "4 seller_contact\n",
      "5 deal_ids\n",
      "6 base_price\n",
      "7 shipping\n",
      "8 non_mercado_pago_payment_methods\n",
      "9 seller_id\n",
      "10 variations\n",
      "11 location\n",
      "12 site_id\n",
      "13 listing_type_id\n",
      "14 price\n",
      "15 attributes\n",
      "16 buying_mode\n",
      "17 tags\n",
      "18 listing_source\n",
      "19 parent_item_id\n",
      "20 coverage_areas\n",
      "21 category_id\n",
      "22 descriptions\n",
      "23 last_updated\n",
      "24 international_delivery_mode\n",
      "25 pictures\n",
      "26 id\n",
      "27 official_store_id\n",
      "28 differential_pricing\n",
      "29 accepts_mercadopago\n",
      "30 original_price\n",
      "31 currency_id\n",
      "32 thumbnail\n",
      "33 title\n",
      "34 automatic_relist\n",
      "35 date_created\n",
      "36 secure_thumbnail\n",
      "37 stop_time\n",
      "38 status\n",
      "39 video_id\n",
      "40 catalog_product_id\n",
      "41 subtitle\n",
      "42 initial_quantity\n",
      "43 start_time\n",
      "44 permalink\n",
      "45 geolocation\n",
      "46 sold_quantity\n",
      "47 available_quantity\n"
     ]
    }
   ],
   "source": [
    "for i in index_keys:\n",
    "    print(i, index_keys[i])"
   ]
  },
  {
   "cell_type": "code",
   "execution_count": 11,
   "metadata": {},
   "outputs": [
    {
     "data": {
      "text/plain": [
       "array(['active', 'paused', 'closed', 'not_yet_active'], dtype=object)"
      ]
     },
     "execution_count": 11,
     "metadata": {},
     "output_type": "execute_result"
    }
   ],
   "source": [
    "df[\"status\"].unique()"
   ]
  },
  {
   "cell_type": "code",
   "execution_count": 12,
   "metadata": {},
   "outputs": [
    {
     "data": {
      "text/plain": [
       "0        [{'description': 'Transferencia bancaria', 'id...\n",
       "1        [{'description': 'Transferencia bancaria', 'id...\n",
       "2        [{'description': 'Transferencia bancaria', 'id...\n",
       "3        [{'description': 'Transferencia bancaria', 'id...\n",
       "4        [{'description': 'Transferencia bancaria', 'id...\n",
       "                               ...                        \n",
       "99995    [{'description': 'Transferencia bancaria', 'id...\n",
       "99996    [{'description': 'Tarjeta de crédito', 'id': '...\n",
       "99997                                                   []\n",
       "99998    [{'description': 'Transferencia bancaria', 'id...\n",
       "99999    [{'description': 'Transferencia bancaria', 'id...\n",
       "Name: non_mercado_pago_payment_methods, Length: 100000, dtype: object"
      ]
     },
     "execution_count": 12,
     "metadata": {},
     "output_type": "execute_result"
    }
   ],
   "source": [
    "df[\"non_mercado_pago_payment_methods\"]"
   ]
  },
  {
   "cell_type": "code",
   "execution_count": 13,
   "metadata": {},
   "outputs": [
    {
     "data": {
      "text/plain": [
       "{'comment': '',\n",
       " 'longitude': -58.3986709,\n",
       " 'id': 78162842,\n",
       " 'country': {'name': 'Argentina', 'id': 'AR'},\n",
       " 'address_line': '',\n",
       " 'latitude': -34.6280698,\n",
       " 'search_location': {'neighborhood': {'name': 'San Cristóbal',\n",
       "   'id': 'TUxBQlNBTjkwNTZa'},\n",
       "  'state': {'name': 'Capital Federal', 'id': 'TUxBUENBUGw3M2E1'},\n",
       "  'city': {'name': 'Capital Federal', 'id': 'TUxBQ0NBUGZlZG1sYQ'}},\n",
       " 'zip_code': '',\n",
       " 'city': {'name': 'San Cristóbal', 'id': 'TUxBQlNBTjkwNTZa'},\n",
       " 'state': {'name': 'Capital Federal', 'id': 'AR-C'}}"
      ]
     },
     "execution_count": 13,
     "metadata": {},
     "output_type": "execute_result"
    }
   ],
   "source": [
    "df.iloc[0,0]"
   ]
  },
  {
   "cell_type": "code",
   "execution_count": 14,
   "metadata": {},
   "outputs": [
    {
     "data": {
      "text/plain": [
       "{'local_pick_up': True,\n",
       " 'methods': [],\n",
       " 'tags': [],\n",
       " 'free_shipping': False,\n",
       " 'mode': 'not_specified',\n",
       " 'dimensions': None}"
      ]
     },
     "execution_count": 14,
     "metadata": {},
     "output_type": "execute_result"
    }
   ],
   "source": [
    "df.iloc[0,7]"
   ]
  },
  {
   "cell_type": "code",
   "execution_count": 15,
   "metadata": {},
   "outputs": [
    {
     "data": {
      "text/plain": [
       "[{'description': 'Transferencia bancaria', 'id': 'MLATB', 'type': 'G'},\n",
       " {'description': 'Acordar con el comprador', 'id': 'MLAWC', 'type': 'G'},\n",
       " {'description': 'Efectivo', 'id': 'MLAMO', 'type': 'G'}]"
      ]
     },
     "execution_count": 15,
     "metadata": {},
     "output_type": "execute_result"
    }
   ],
   "source": [
    "df.iloc[0,8]"
   ]
  },
  {
   "cell_type": "code",
   "execution_count": 16,
   "metadata": {},
   "outputs": [
    {
     "data": {
      "text/plain": [
       "array(['new', 'used'], dtype=object)"
      ]
     },
     "execution_count": 16,
     "metadata": {},
     "output_type": "execute_result"
    }
   ],
   "source": [
    "df[\"condition\"].unique()"
   ]
  },
  {
   "cell_type": "code",
   "execution_count": 17,
   "metadata": {},
   "outputs": [
    {
     "name": "stdout",
     "output_type": "stream",
     "text": [
      "seller_address\n",
      "warranty\n",
      "sub_status\n",
      "condition\n",
      "seller_contact\n",
      "deal_ids\n",
      "base_price\n",
      "shipping\n",
      "non_mercado_pago_payment_methods\n",
      "seller_id\n",
      "variations\n",
      "location\n",
      "site_id\n",
      "listing_type_id\n",
      "price\n",
      "attributes\n",
      "buying_mode\n",
      "tags\n",
      "listing_source\n",
      "parent_item_id\n",
      "coverage_areas\n",
      "category_id\n",
      "descriptions\n",
      "last_updated\n",
      "international_delivery_mode\n",
      "pictures\n",
      "id\n",
      "official_store_id\n",
      "differential_pricing\n",
      "accepts_mercadopago\n",
      "original_price\n",
      "currency_id\n",
      "thumbnail\n",
      "title\n",
      "automatic_relist\n",
      "date_created\n",
      "secure_thumbnail\n",
      "stop_time\n",
      "status\n",
      "video_id\n",
      "catalog_product_id\n",
      "subtitle\n",
      "initial_quantity\n",
      "start_time\n",
      "permalink\n",
      "geolocation\n",
      "sold_quantity\n",
      "available_quantity\n"
     ]
    }
   ],
   "source": [
    "for i in df:\n",
    "    print(i)"
   ]
  },
  {
   "cell_type": "code",
   "execution_count": 18,
   "metadata": {},
   "outputs": [
    {
     "name": "stdout",
     "output_type": "stream",
     "text": [
      "<re.Match object; span=(0, 6), match='{hola}'>\n"
     ]
    }
   ],
   "source": [
    "json_pattern = r\"^\\{.*\\}$\"\n",
    "tst = re.match(json_pattern, \"{hola}\")\n",
    "print(tst)"
   ]
  },
  {
   "cell_type": "code",
   "execution_count": 19,
   "metadata": {},
   "outputs": [],
   "source": [
    "string_objects = {}\n",
    "for i in range(48):\n",
    "    if re.match(json_pattern, str(df.iloc[0,i])):\n",
    "            string_objects[f\"{dfkeys[i]}\"] = i"
   ]
  },
  {
   "cell_type": "code",
   "execution_count": 20,
   "metadata": {},
   "outputs": [
    {
     "data": {
      "text/plain": [
       "{'seller_address': 0, 'shipping': 7, 'location': 11, 'geolocation': 45}"
      ]
     },
     "execution_count": 20,
     "metadata": {},
     "output_type": "execute_result"
    }
   ],
   "source": [
    "string_objects"
   ]
  },
  {
   "cell_type": "code",
   "execution_count": 21,
   "metadata": {},
   "outputs": [
    {
     "name": "stdout",
     "output_type": "stream",
     "text": [
      "{'comment': '', 'longitude': -58.3986709, 'id': 78162842, 'country': {'name': 'Argentina', 'id': 'AR'}, 'address_line': '', 'latitude': -34.6280698, 'search_location': {'neighborhood': {'name': 'San Cristóbal', 'id': 'TUxBQlNBTjkwNTZa'}, 'state': {'name': 'Capital Federal', 'id': 'TUxBUENBUGw3M2E1'}, 'city': {'name': 'Capital Federal', 'id': 'TUxBQ0NBUGZlZG1sYQ'}}, 'zip_code': '', 'city': {'name': 'San Cristóbal', 'id': 'TUxBQlNBTjkwNTZa'}, 'state': {'name': 'Capital Federal', 'id': 'AR-C'}}\n",
      "{'local_pick_up': True, 'methods': [], 'tags': [], 'free_shipping': False, 'mode': 'not_specified', 'dimensions': None}\n",
      "[{'description': 'Transferencia bancaria', 'id': 'MLATB', 'type': 'G'}, {'description': 'Acordar con el comprador', 'id': 'MLAWC', 'type': 'G'}, {'description': 'Efectivo', 'id': 'MLAMO', 'type': 'G'}]\n",
      "{}\n",
      "[{'id': 'MLA578052519-912855983'}]\n",
      "[{'size': '500x375', 'secure_url': 'https://a248.e.akamai.net/mla-s1-p.mlstatic.com/5386-MLA4352067878_052013-O.jpg', 'max_size': '1200x900', 'url': 'http://mla-s1-p.mlstatic.com/5386-MLA4352067878_052013-O.jpg', 'quality': '', 'id': '5386-MLA4352067878_052013'}, {'size': '500x375', 'secure_url': 'https://a248.e.akamai.net/mla-s1-p.mlstatic.com/5361-MLA4352068035_052013-O.jpg', 'max_size': '1200x900', 'url': 'http://mla-s1-p.mlstatic.com/5361-MLA4352068035_052013-O.jpg', 'quality': '', 'id': '5361-MLA4352068035_052013'}]\n",
      "{'latitude': -34.6280698, 'longitude': -58.3986709}\n"
     ]
    }
   ],
   "source": [
    "json_pattern2 = r\".*\\{.*\\}*\"\n",
    "string_objects2 = {}\n",
    "for i in range(48):\n",
    "    if re.match(json_pattern2, str(df.iloc[0,i])):\n",
    "        print(df.iloc[0,i])\n",
    "        string_objects2[f\"{dfkeys[i]}\"] = i"
   ]
  },
  {
   "cell_type": "code",
   "execution_count": 22,
   "metadata": {},
   "outputs": [
    {
     "name": "stdout",
     "output_type": "stream",
     "text": [
      "{'seller_address': 0, 'shipping': 7, 'non_mercado_pago_payment_methods': 8, 'location': 11, 'descriptions': 22, 'pictures': 25, 'geolocation': 45}\n"
     ]
    }
   ],
   "source": [
    "print(string_objects2)"
   ]
  },
  {
   "cell_type": "code",
   "execution_count": 23,
   "metadata": {},
   "outputs": [
    {
     "data": {
      "text/plain": [
       "[{'id': 'MLA578052519-912855983'}]"
      ]
     },
     "execution_count": 23,
     "metadata": {},
     "output_type": "execute_result"
    }
   ],
   "source": [
    "df.iloc[0,22]"
   ]
  },
  {
   "cell_type": "code",
   "execution_count": 24,
   "metadata": {},
   "outputs": [
    {
     "data": {
      "text/plain": [
       "[{'size': '500x375',\n",
       "  'secure_url': 'https://a248.e.akamai.net/mla-s1-p.mlstatic.com/5386-MLA4352067878_052013-O.jpg',\n",
       "  'max_size': '1200x900',\n",
       "  'url': 'http://mla-s1-p.mlstatic.com/5386-MLA4352067878_052013-O.jpg',\n",
       "  'quality': '',\n",
       "  'id': '5386-MLA4352067878_052013'},\n",
       " {'size': '500x375',\n",
       "  'secure_url': 'https://a248.e.akamai.net/mla-s1-p.mlstatic.com/5361-MLA4352068035_052013-O.jpg',\n",
       "  'max_size': '1200x900',\n",
       "  'url': 'http://mla-s1-p.mlstatic.com/5361-MLA4352068035_052013-O.jpg',\n",
       "  'quality': '',\n",
       "  'id': '5361-MLA4352068035_052013'}]"
      ]
     },
     "execution_count": 24,
     "metadata": {},
     "output_type": "execute_result"
    }
   ],
   "source": [
    "df.iloc[0,25]"
   ]
  },
  {
   "cell_type": "code",
   "execution_count": 25,
   "metadata": {},
   "outputs": [
    {
     "data": {
      "text/plain": [
       "{}"
      ]
     },
     "execution_count": 25,
     "metadata": {},
     "output_type": "execute_result"
    }
   ],
   "source": [
    "df.iloc[0,11]"
   ]
  },
  {
   "cell_type": "code",
   "execution_count": 26,
   "metadata": {},
   "outputs": [
    {
     "data": {
      "text/plain": [
       "{'latitude': -34.6280698, 'longitude': -58.3986709}"
      ]
     },
     "execution_count": 26,
     "metadata": {},
     "output_type": "execute_result"
    }
   ],
   "source": [
    "df.iloc[0,45]"
   ]
  },
  {
   "cell_type": "code",
   "execution_count": 27,
   "metadata": {},
   "outputs": [
    {
     "data": {
      "text/plain": [
       "{'comment': '',\n",
       " 'longitude': -58.3986709,\n",
       " 'id': 78162842,\n",
       " 'country': {'name': 'Argentina', 'id': 'AR'},\n",
       " 'address_line': '',\n",
       " 'latitude': -34.6280698,\n",
       " 'search_location': {'neighborhood': {'name': 'San Cristóbal',\n",
       "   'id': 'TUxBQlNBTjkwNTZa'},\n",
       "  'state': {'name': 'Capital Federal', 'id': 'TUxBUENBUGw3M2E1'},\n",
       "  'city': {'name': 'Capital Federal', 'id': 'TUxBQ0NBUGZlZG1sYQ'}},\n",
       " 'zip_code': '',\n",
       " 'city': {'name': 'San Cristóbal', 'id': 'TUxBQlNBTjkwNTZa'},\n",
       " 'state': {'name': 'Capital Federal', 'id': 'AR-C'}}"
      ]
     },
     "execution_count": 27,
     "metadata": {},
     "output_type": "execute_result"
    }
   ],
   "source": [
    "df.iloc[0,0]"
   ]
  },
  {
   "cell_type": "code",
   "execution_count": 28,
   "metadata": {},
   "outputs": [],
   "source": [
    "def  compare_json_geo(row: pd.DataFrame) -> bool:\n",
    "    json1 = row[\"seller_address\"]\n",
    "    json2 = row[\"geolocation\"]\n",
    "    return (\n",
    "        json1[\"longitude\"] == json2[\"longitude\"]\n",
    "    )and(\n",
    "        json1[\"latitude\"] == json2[\"latitude\"]\n",
    "    )"
   ]
  },
  {
   "cell_type": "code",
   "execution_count": 29,
   "metadata": {},
   "outputs": [],
   "source": [
    "df[\"same_info_0_45\"] = df.apply(compare_json_geo, axis=1)"
   ]
  },
  {
   "cell_type": "code",
   "execution_count": 30,
   "metadata": {},
   "outputs": [
    {
     "data": {
      "text/plain": [
       "same_info_0_45\n",
       "True     98249\n",
       "False     1751\n",
       "Name: count, dtype: int64"
      ]
     },
     "execution_count": 30,
     "metadata": {},
     "output_type": "execute_result"
    }
   ],
   "source": [
    "df[\"same_info_0_45\"].value_counts()"
   ]
  },
  {
   "cell_type": "code",
   "execution_count": 31,
   "metadata": {},
   "outputs": [],
   "source": [
    "differents_locations = df[df[\"same_info_0_45\"] == False][[index_keys[\"0\"],index_keys[\"45\"]]]"
   ]
  },
  {
   "cell_type": "code",
   "execution_count": 32,
   "metadata": {},
   "outputs": [
    {
     "data": {
      "text/plain": [
       "{'comment': '',\n",
       " 'longitude': -58.3716129,\n",
       " 'id': 154081243,\n",
       " 'country': {'name': 'Argentina', 'id': 'AR'},\n",
       " 'address_line': 'Defensa 850',\n",
       " 'latitude': -34.6177886,\n",
       " 'search_location': {'neighborhood': {'name': 'San Telmo',\n",
       "   'id': 'TUxBQlNBTjgxMzNa'},\n",
       "  'state': {'name': 'Capital Federal', 'id': 'TUxBUENBUGw3M2E1'},\n",
       "  'city': {'name': 'Capital Federal', 'id': 'TUxBQ0NBUGZlZG1sYQ'}},\n",
       " 'zip_code': '1065',\n",
       " 'city': {'name': 'San Telmo', 'id': 'TUxBQlNBTjgxMzNa'},\n",
       " 'state': {'name': 'Capital Federal', 'id': 'AR-C'}}"
      ]
     },
     "execution_count": 32,
     "metadata": {},
     "output_type": "execute_result"
    }
   ],
   "source": [
    "differents_locations.iloc[0,0]"
   ]
  },
  {
   "cell_type": "code",
   "execution_count": 33,
   "metadata": {},
   "outputs": [
    {
     "data": {
      "text/plain": [
       "{'latitude': '', 'longitude': ''}"
      ]
     },
     "execution_count": 33,
     "metadata": {},
     "output_type": "execute_result"
    }
   ],
   "source": [
    "differents_locations.iloc[0,1]"
   ]
  },
  {
   "cell_type": "code",
   "execution_count": 34,
   "metadata": {},
   "outputs": [
    {
     "name": "stdout",
     "output_type": "stream",
     "text": [
      "1491\n"
     ]
    }
   ],
   "source": [
    "x = 0\n",
    "listfalse = []\n",
    "listtrue = []\n",
    "for i in list(differents_locations.index):\n",
    "    if (differents_locations.loc[i][\"seller_address\"][\"longitude\"] == \"\" or \n",
    "        differents_locations.loc[i][\"geolocation\"][\"longitude\"] == \"\") or (\n",
    "        differents_locations.loc[i][\"seller_address\"][\"latitude\"] == \"\" or \n",
    "        differents_locations.loc[i][\"geolocation\"][\"latitude\"] == \"\"):\n",
    "            listfalse.append(i)\n",
    "            x+=1\n",
    "            continue\n",
    "    listtrue.append(i)\n",
    "print(x)"
   ]
  },
  {
   "cell_type": "code",
   "execution_count": 35,
   "metadata": {},
   "outputs": [
    {
     "name": "stdout",
     "output_type": "stream",
     "text": [
      "[59, 261, 294, 326, 484, 508, 596, 750, 1095, 1214, 1273, 1280, 1388, 1623, 1653, 1750, 1991, 2058, 2071, 2276, 2482, 2580, 2722, 2733, 2763, 2855, 2884, 2903, 2952, 3134, 3184, 3254, 3297, 3366, 3380, 3614, 3664, 3763, 3988, 4073, 4125, 4198, 4914, 4935, 5000, 5064, 5119, 5148, 5327, 5649, 5682, 5745, 5767, 5775, 5927, 5955, 6131, 6159, 6243, 6252, 6359, 6380, 6592, 6602, 6761, 6818, 6851, 6993, 7010, 7088, 7101, 7139, 7332, 7393, 7456, 7504, 7556, 7630, 7633, 7673, 7715, 7811, 8003, 8019, 8200, 8270, 8364, 8441, 8680, 8693, 8733, 8745, 8845, 8955, 9199, 9298, 9321, 9423, 9456, 9709, 9715, 9736, 9756, 9794, 9890, 9920, 10100, 10167, 10178, 10218, 10231, 10247, 10258, 10341, 10380, 10508, 10539, 10553, 10643, 10676, 10684, 10760, 10773, 10806, 10833, 10838, 10843, 10895, 11013, 11035, 11070, 11164, 11227, 11311, 11468, 11540, 11588, 11770, 11778, 11808, 11834, 11896, 11924, 11974, 12134, 12147, 12188, 12221, 12288, 12328, 12407, 12430, 12444, 12475, 12508, 12532, 12612, 12726, 12754, 12803, 12821, 12827, 12946, 13135, 13136, 13174, 13226, 13386, 13412, 13438, 13551, 13681, 13795, 14006, 14137, 14145, 14260, 14303, 14362, 14450, 14454, 14508, 14568, 14657, 14730, 14780, 14894, 15047, 15049, 15068, 15192, 15213, 15239, 15380, 15471, 15499, 15510, 15735, 15783, 15785, 15872, 15923, 15973, 16033, 16064, 16071, 16106, 16253, 16290, 16368, 16419, 16449, 16455, 16751, 17085, 17136, 17224, 17250, 17274, 17328, 17473, 17501, 17560, 17585, 17607, 17666, 17728, 17749, 17841, 17883, 17897, 17988, 18028, 18056, 18129, 18226, 18231, 18350, 18386, 18455, 18491, 18572, 18655, 18801, 18846, 18851, 18885, 19015, 19391, 19412, 19430, 19456, 19623, 19775, 19795, 19848, 19937, 19970, 20128, 20234, 20328, 20365, 20376, 20411, 20511, 20557, 20664, 20688, 20780, 20792, 20872, 20877, 20880, 20902, 20905, 20967, 21206, 21219, 21361, 21524, 21541, 21719, 21890, 21978, 22141, 22331, 22347, 22366, 22369, 22479, 22566, 23053, 23150, 23323, 23498, 23570, 23586, 23718, 23731, 24010, 24044, 24151, 24205, 24251, 24338, 24404, 24444, 24465, 24673, 24682, 24726, 24906, 25031, 25041, 25223, 25477, 25575, 25636, 25675, 25746, 25813, 25852, 26018, 26065, 26092, 26108, 26145, 26147, 26179, 26189, 26254, 26326, 26346, 26359, 26549, 26714, 26805, 26864, 26892, 26894, 26945, 27105, 27129, 27162, 27199, 27282, 27323, 27399, 27404, 27439, 27477, 27478, 27541, 27581, 27680, 27783, 27788, 27797, 27845, 27861, 27902, 27908, 28059, 28204, 28244, 28247, 28294, 28375, 28546, 28588, 28600, 28688, 28692, 28696, 28833, 28860, 28880, 28943, 29009, 29021, 29063, 29124, 29176, 29198, 29243, 29270, 29318, 29405, 29447, 29493, 29536, 29610, 29685, 29725, 29781, 29791, 29907, 29982, 29983, 29997, 30010, 30016, 30040, 30183, 30224, 30289, 30467, 30488, 30569, 30802, 30803, 30842, 30843, 31048, 31222, 31404, 31482, 31513, 31544, 31782, 31859, 31861, 31870, 31929, 31958, 31967, 31971, 32359, 32362, 32407, 32432, 32521, 32681, 32888, 32919, 32980, 33002, 33256, 33353, 33529, 33547, 33565, 33568, 33594, 33774, 33879, 34043, 34129, 34178, 34232, 34341, 34420, 34463, 34543, 34570, 34599, 34614, 34616, 34685, 34722, 34784, 34811, 34854, 34862, 34889, 34907, 35017, 35058, 35072, 35075, 35116, 35221, 35276, 35283, 35356, 35443, 35463, 35542, 35545, 35609, 35673, 35676, 35771, 35856, 35910, 35979, 36024, 36054, 36137, 36139, 36288, 36399, 36561, 36571, 36618, 36805, 36831, 36877, 36913, 37194, 37270, 37359, 37360, 37541, 37542, 37611, 37667, 37745, 37771, 37786, 38044, 38090, 38126, 38231, 38238, 38253, 38318, 38382, 38386, 38446, 38464, 38579, 38626, 38818, 38829, 38835, 38870, 38878, 38920, 38921, 39011, 39017, 39067, 39313, 39598, 39609, 39610, 39662, 39754, 39860, 39938, 39959, 40020, 40062, 40088, 40111, 40117, 40300, 40352, 40380, 40402, 40564, 40608, 40708, 40745, 40757, 40821, 40859, 40885, 41070, 41130, 41186, 41202, 41272, 41311, 41369, 41372, 41416, 41446, 41504, 41586, 41661, 41685, 41692, 41938, 41952, 42049, 42102, 42259, 42367, 42391, 42431, 42435, 42439, 42459, 42521, 42536, 42805, 42945, 42984, 43292, 43319, 43330, 43424, 43459, 43562, 43617, 43679, 43785, 43798, 43799, 43842, 44001, 44097, 44251, 44269, 44456, 44503, 44589, 44638, 44737, 44825, 44930, 44940, 45018, 45064, 45074, 45198, 45217, 45241, 45277, 45417, 45422, 45438, 45530, 45554, 45629, 45766, 45828, 46071, 46087, 46231, 46235, 46244, 46285, 46548, 46636, 46691, 46861, 46888, 46948, 46992, 47008, 47097, 47135, 47158, 47159, 47321, 47393, 47403, 47465, 47520, 47527, 47533, 47673, 47712, 47788, 47814, 47848, 47873, 48060, 48085, 48194, 48210, 48236, 48260, 48413, 48488, 48506, 48563, 48575, 48578, 48592, 48605, 48624, 48634, 48717, 48731, 48767, 48794, 48808, 48897, 48947, 48980, 49047, 49082, 49101, 49173, 49218, 49252, 49476, 49695, 49744, 49821, 49862, 49908, 49959, 50098, 50216, 50266, 50300, 50317, 50458, 50498, 50511, 50535, 50602, 50691, 50712, 50733, 50782, 50808, 50828, 50837, 50890, 50958, 51044, 51156, 51418, 51516, 51564, 51570, 51765, 51781, 51814, 51981, 52031, 52157, 52260, 52303, 52334, 52362, 52379, 52425, 52506, 52598, 52712, 52716, 52727, 52733, 52783, 52792, 52863, 53012, 53098, 53240, 53291, 53385, 53397, 53405, 53419, 53462, 53468, 53503, 53540, 53559, 53611, 53710, 53766, 53791, 53802, 53922, 53924, 53944, 53984, 54002, 54297, 54336, 54395, 54421, 54500, 54524, 54574, 54576, 54578, 54684, 54756, 54792, 54883, 54900, 54908, 54948, 54986, 55082, 55149, 55165, 55170, 55237, 55249, 55267, 55332, 55389, 55430, 55614, 55615, 55647, 55725, 55727, 55748, 55807, 55874, 56049, 56060, 56073, 56125, 56192, 56221, 56280, 56390, 56396, 56400, 56444, 56452, 56515, 56541, 56585, 56591, 56599, 56656, 56706, 56710, 56734, 56747, 56756, 56781, 56793, 56806, 56808, 56912, 57082, 57097, 57128, 57184, 57190, 57197, 57368, 57476, 57567, 57585, 57603, 57606, 57627, 57652, 57762, 57814, 57837, 58115, 58271, 58276, 58280, 58291, 58350, 58351, 58436, 58490, 58545, 58643, 58655, 58927, 58942, 59057, 59078, 59148, 59206, 59227, 59358, 59486, 59518, 59548, 59614, 59633, 59693, 59799, 59803, 59923, 59977, 60010, 60046, 60086, 60140, 60222, 60231, 60311, 60330, 60384, 60385, 60455, 60479, 60488, 60530, 60626, 60760, 60779, 60989, 60994, 61019, 61098, 61178, 61251, 61257, 61296, 61361, 61469, 61625, 61722, 61793, 61894, 62025, 62231, 62279, 62337, 62577, 62586, 62600, 62603, 62696, 62724, 62745, 62828, 62839, 62847, 62854, 62909, 62912, 62975, 63060, 63116, 63158, 63255, 63318, 63350, 63412, 63588, 63629, 63633, 63704, 63755, 63862, 63871, 63896, 64112, 64147, 64178, 64208, 64245, 64278, 64424, 64466, 64533, 64539, 64582, 64891, 65275, 65294, 65425, 65588, 65668, 65706, 65816, 66010, 66081, 66083, 66124, 66132, 66147, 66157, 66217, 66276, 66540, 66556, 66619, 66647, 66722, 66871, 66957, 67008, 67181, 67465, 67479, 67583, 67587, 67601, 67611, 67677, 67692, 67708, 67773, 67932, 67948, 67955, 68067, 68333, 68427, 68509, 68514, 68661, 68735, 68783, 69130, 69278, 69301, 69470, 69471, 69533, 69591, 69668, 69674, 69688, 69706, 69723, 69741, 69759, 69779, 69823, 69989, 70084, 70087, 70225, 70255, 70382, 70491, 70535, 70650, 70707, 70718, 70941, 71128, 71219, 71220, 71309, 71341, 71426, 71463, 71533, 71573, 71617, 71706, 71750, 71933, 71959, 71974, 71980, 72252, 72283, 72286, 72372, 72651, 72698, 72807, 72833, 73011, 73038, 73054, 73213, 73470, 73522, 73594, 73611, 73636, 73644, 73663, 73697, 73790, 73794, 73806, 73984, 74011, 74131, 74174, 74333, 74418, 74542, 74560, 74682, 74684, 74692, 74695, 74754, 74810, 75072, 75321, 75332, 75423, 75474, 75514, 75537, 75566, 75687, 75724, 75999, 76023, 76035, 76066, 76112, 76169, 76337, 76347, 76408, 76442, 76467, 76492, 76502, 76538, 76595, 76597, 76602, 76679, 76709, 76742, 77057, 77234, 77359, 77374, 77404, 77410, 77565, 77624, 77698, 77898, 77910, 77930, 78011, 78071, 78095, 78102, 78175, 78243, 78412, 78478, 78583, 78604, 78659, 78695, 78748, 78756, 78838, 78851, 78907, 78954, 78969, 78977, 79066, 79141, 79160, 79641, 79643, 79815, 79872, 79997, 80123, 80157, 80310, 80349, 80386, 80410, 80526, 80569, 80580, 80582, 80605, 80611, 80656, 80702, 80741, 80776, 80823, 80942, 81003, 81067, 81119, 81125, 81242, 81301, 81463, 81499, 81500, 81501, 81570, 81571, 81690, 81732, 81857, 81879, 81945, 81956, 81965, 81988, 82048, 82204, 82258, 82274, 82336, 82375, 82491, 82497, 82571, 82601, 82624, 82720, 82771, 82905, 83033, 83074, 83121, 83289, 83336, 83365, 83370, 83442, 83449, 83527, 83612, 83704, 83754, 83812, 83830, 83889, 83894, 83944, 84032, 84167, 84183, 84318, 84338, 84401, 84410, 84432, 84545, 84561, 84657, 84703, 84738, 84786, 84859, 84924, 85110, 85227, 85270, 85299, 85316, 85370, 85384, 85401, 85418, 85477, 85485, 85497, 85551, 85555, 85611, 85650, 85721, 85732, 85781, 85810, 85868, 85942, 85973, 86012, 86053, 86076, 86110, 86160, 86198, 86448, 86500, 86508, 86642, 86653, 86675, 87029, 87073, 87126, 87131, 87182, 87252, 87319, 87332, 87375, 87379, 87400, 87496, 87542, 87632, 87694, 87695, 87724, 87818, 87844, 87863, 87890, 87945, 87962, 88054, 88106, 88140, 88225, 88310, 88377, 88431, 88435, 88498, 88614, 88640, 88644, 88840, 88872, 88936, 88985, 89113, 89127, 89222, 89287, 89320, 89351, 89408, 89490, 89608, 89627, 89634, 89649, 89668, 89710, 89751, 89759, 89796, 89901, 90053, 90158, 90201, 90213, 90346, 90354, 90391, 90411, 90418, 90465, 90490, 90525, 90554, 90583, 90611, 90715, 90749, 90934, 90970, 91154, 91162, 91213, 91244, 91325, 91380, 91471, 91479, 91514, 91547, 91646, 91678, 91704, 91709, 91752, 91757, 91786, 91834, 91883, 91966, 92125, 92195, 92238, 92401, 92532, 92541, 92554, 92619, 92652, 92845, 92906, 93020, 93044, 93109, 93129, 93135, 93139, 93220, 93298, 93325, 93344, 93354, 93461, 93514, 93607, 93608, 93678, 93876, 93878, 93910, 93916, 93918, 94054, 94162, 94180, 94252, 94258, 94276, 94288, 94399, 94435, 94471, 94536, 94676, 94754, 94941, 94961, 95113, 95169, 95201, 95204, 95334, 95362, 95458, 95563, 95590, 95605, 95657, 95668, 95675, 95809, 95825, 95835, 95845, 95946, 96159, 96325, 96403, 96764, 96787, 96811, 96864, 97192, 97310, 97359, 97378, 97439, 97454, 97561, 97613, 97862, 97893, 97928, 97938, 97945, 97949, 97975, 98002, 98009, 98342, 98483, 98610, 98641, 98760, 98853, 98882, 98965, 98974, 98990, 99006, 99010, 99052, 99062, 99063, 99066, 99083, 99091, 99224, 99293, 99332, 99459, 99501, 99539, 99553, 99593, 99621, 99669, 99699, 99749, 99779, 99816, 99854, 99917, 99930, 99931]\n"
     ]
    }
   ],
   "source": [
    "print(listfalse)"
   ]
  },
  {
   "cell_type": "code",
   "execution_count": 36,
   "metadata": {},
   "outputs": [
    {
     "name": "stdout",
     "output_type": "stream",
     "text": [
      "260\n"
     ]
    }
   ],
   "source": [
    "print(listtrue.__len__())"
   ]
  },
  {
   "cell_type": "code",
   "execution_count": 37,
   "metadata": {},
   "outputs": [
    {
     "name": "stdout",
     "output_type": "stream",
     "text": [
      "[1250, 1384, 1590, 1657, 2107, 3319, 3369, 3519, 3604, 3917, 4222, 5423, 5445, 6768, 6923, 7199, 8067, 9185, 9426, 9498, 9534, 10924, 11324, 12514, 13147, 13150, 13210, 13280, 14051, 14611, 15203, 15301, 15409, 16387, 16436, 16478, 16952, 17027, 17203, 18396, 19149, 19192, 19220, 19421, 19477, 19499, 19735, 20062, 20571, 21044, 21350, 21513, 21680, 22247, 23328, 24100, 24505, 24952, 25158, 25604, 25763, 25830, 26374, 26573, 26770, 27234, 27612, 27614, 27736, 27986, 28097, 28474, 28869, 28916, 29071, 29360, 30669, 31004, 32577, 32631, 33371, 33668, 34163, 34311, 34437, 34518, 34819, 35015, 35560, 35606, 35878, 35916, 36127, 36255, 36349, 36548, 36977, 37121, 37221, 37826, 38541, 38798, 39431, 39496, 39620, 39810, 40281, 40336, 42225, 42443, 42461, 42509, 42998, 43116, 44440, 44886, 45769, 46256, 46411, 46478, 46949, 47271, 47289, 47786, 48147, 48163, 48271, 48346, 48456, 48517, 49018, 50230, 50491, 50506, 51580, 51925, 52416, 52440, 53147, 54434, 54714, 54972, 55215, 55578, 55709, 56176, 56749, 57338, 57624, 58221, 58650, 59329, 59334, 59840, 60267, 60414, 61081, 61400, 61528, 61574, 61855, 63080, 63296, 63393, 63394, 63464, 64177, 64794, 66172, 67118, 67246, 67510, 67898, 68043, 68866, 69240, 69254, 69571, 69901, 69934, 70009, 70613, 71637, 72317, 72637, 72803, 72943, 73029, 73648, 74952, 75054, 76292, 76687, 76983, 77783, 79188, 79247, 79270, 79457, 79517, 79560, 79811, 79912, 80013, 80975, 81848, 82183, 82903, 83081, 83139, 83214, 83259, 83281, 84136, 84145, 84235, 84310, 85093, 85573, 85683, 86073, 86409, 86873, 87938, 88172, 88549, 88777, 89478, 89552, 89835, 89899, 90657, 90732, 91693, 92685, 92709, 93187, 93192, 93271, 93287, 93373, 93716, 94645, 94946, 95098, 95149, 95654, 96186, 96334, 96405, 96422, 97000, 97147, 97477, 97982, 98082, 98524, 98692, 99378, 99902]\n"
     ]
    }
   ],
   "source": [
    "print(listtrue)"
   ]
  },
  {
   "cell_type": "code",
   "execution_count": 38,
   "metadata": {},
   "outputs": [
    {
     "data": {
      "text/plain": [
       "{'comment': '',\n",
       " 'longitude': -58.6167212,\n",
       " 'id': 73143250,\n",
       " 'country': {'name': 'Argentina', 'id': 'AR'},\n",
       " 'address_line': 'san martin SN',\n",
       " 'latitude': -34.6558611,\n",
       " 'search_location': {'neighborhood': {'name': '', 'id': ''},\n",
       "  'state': {'name': 'Bs.As. G.B.A. Oeste', 'id': 'TUxBUEdSQWVmNTVm'},\n",
       "  'city': {'name': 'Morón', 'id': 'TUxBQ01PUmI1NTBj'}},\n",
       " 'zip_code': '1708',\n",
       " 'city': {'name': 'Morón', 'id': 'TUxBQ01PUmI1NTBj'},\n",
       " 'state': {'name': 'Buenos Aires', 'id': 'AR-B'}}"
      ]
     },
     "execution_count": 38,
     "metadata": {},
     "output_type": "execute_result"
    }
   ],
   "source": [
    "differents_locations.loc[1250][\"seller_address\"]"
   ]
  },
  {
   "cell_type": "code",
   "execution_count": 39,
   "metadata": {},
   "outputs": [
    {
     "data": {
      "text/plain": [
       "{'latitude': -34.6477684, 'longitude': -58.6138669}"
      ]
     },
     "execution_count": 39,
     "metadata": {},
     "output_type": "execute_result"
    }
   ],
   "source": [
    "differents_locations.loc[1250][\"geolocation\"]"
   ]
  },
  {
   "cell_type": "code",
   "execution_count": 44,
   "metadata": {},
   "outputs": [],
   "source": [
    "def json_get_country(row):\n",
    "    country = row[\"seller_address\"][\"country\"][\"name\"]\n",
    "    if country != None and country != \"\":\n",
    "        return country\n",
    "    return None\n"
   ]
  },
  {
   "cell_type": "code",
   "execution_count": 45,
   "metadata": {},
   "outputs": [],
   "source": [
    "df[\"country\"] = df.apply(json_get_country, axis=1)\n",
    "\n"
   ]
  },
  {
   "cell_type": "code",
   "execution_count": 47,
   "metadata": {},
   "outputs": [
    {
     "data": {
      "text/plain": [
       "country\n",
       "Argentina    99997\n",
       "Name: count, dtype: int64"
      ]
     },
     "execution_count": 47,
     "metadata": {},
     "output_type": "execute_result"
    }
   ],
   "source": [
    "df[\"country\"].value_counts()"
   ]
  },
  {
   "cell_type": "code",
   "execution_count": 46,
   "metadata": {},
   "outputs": [
    {
     "data": {
      "text/html": [
       "<div>\n",
       "<style scoped>\n",
       "    .dataframe tbody tr th:only-of-type {\n",
       "        vertical-align: middle;\n",
       "    }\n",
       "\n",
       "    .dataframe tbody tr th {\n",
       "        vertical-align: top;\n",
       "    }\n",
       "\n",
       "    .dataframe thead th {\n",
       "        text-align: right;\n",
       "    }\n",
       "</style>\n",
       "<table border=\"1\" class=\"dataframe\">\n",
       "  <thead>\n",
       "    <tr style=\"text-align: right;\">\n",
       "      <th></th>\n",
       "      <th>seller_address</th>\n",
       "      <th>warranty</th>\n",
       "      <th>sub_status</th>\n",
       "      <th>condition</th>\n",
       "      <th>seller_contact</th>\n",
       "      <th>deal_ids</th>\n",
       "      <th>base_price</th>\n",
       "      <th>shipping</th>\n",
       "      <th>non_mercado_pago_payment_methods</th>\n",
       "      <th>seller_id</th>\n",
       "      <th>...</th>\n",
       "      <th>catalog_product_id</th>\n",
       "      <th>subtitle</th>\n",
       "      <th>initial_quantity</th>\n",
       "      <th>start_time</th>\n",
       "      <th>permalink</th>\n",
       "      <th>geolocation</th>\n",
       "      <th>sold_quantity</th>\n",
       "      <th>available_quantity</th>\n",
       "      <th>same_info_0_45</th>\n",
       "      <th>country</th>\n",
       "    </tr>\n",
       "  </thead>\n",
       "  <tbody>\n",
       "    <tr>\n",
       "      <th>0</th>\n",
       "      <td>{'comment': '', 'longitude': -58.3986709, 'id'...</td>\n",
       "      <td>None</td>\n",
       "      <td>[]</td>\n",
       "      <td>new</td>\n",
       "      <td>None</td>\n",
       "      <td>[]</td>\n",
       "      <td>80.0</td>\n",
       "      <td>{'local_pick_up': True, 'methods': [], 'tags':...</td>\n",
       "      <td>[{'description': 'Transferencia bancaria', 'id...</td>\n",
       "      <td>74952096</td>\n",
       "      <td>...</td>\n",
       "      <td>NaN</td>\n",
       "      <td>NaN</td>\n",
       "      <td>1</td>\n",
       "      <td>2015-09-05 20:42:53+00:00</td>\n",
       "      <td>http://articulo.mercadolibre.com.ar/MLA-578052...</td>\n",
       "      <td>{'latitude': -34.6280698, 'longitude': -58.398...</td>\n",
       "      <td>0</td>\n",
       "      <td>1</td>\n",
       "      <td>True</td>\n",
       "      <td>Argentina</td>\n",
       "    </tr>\n",
       "    <tr>\n",
       "      <th>1</th>\n",
       "      <td>{'comment': '', 'longitude': -58.5059173, 'id'...</td>\n",
       "      <td>NUESTRA REPUTACION</td>\n",
       "      <td>[]</td>\n",
       "      <td>used</td>\n",
       "      <td>None</td>\n",
       "      <td>[]</td>\n",
       "      <td>2650.0</td>\n",
       "      <td>{'local_pick_up': True, 'methods': [], 'tags':...</td>\n",
       "      <td>[{'description': 'Transferencia bancaria', 'id...</td>\n",
       "      <td>42093335</td>\n",
       "      <td>...</td>\n",
       "      <td>NaN</td>\n",
       "      <td>NaN</td>\n",
       "      <td>1</td>\n",
       "      <td>2015-09-26 18:08:30+00:00</td>\n",
       "      <td>http://articulo.mercadolibre.com.ar/MLA-581565...</td>\n",
       "      <td>{'latitude': -34.5935524, 'longitude': -58.505...</td>\n",
       "      <td>0</td>\n",
       "      <td>1</td>\n",
       "      <td>True</td>\n",
       "      <td>Argentina</td>\n",
       "    </tr>\n",
       "    <tr>\n",
       "      <th>2</th>\n",
       "      <td>{'comment': '', 'longitude': -58.4143948, 'id'...</td>\n",
       "      <td>None</td>\n",
       "      <td>[]</td>\n",
       "      <td>used</td>\n",
       "      <td>None</td>\n",
       "      <td>[]</td>\n",
       "      <td>60.0</td>\n",
       "      <td>{'local_pick_up': True, 'methods': [], 'tags':...</td>\n",
       "      <td>[{'description': 'Transferencia bancaria', 'id...</td>\n",
       "      <td>133384258</td>\n",
       "      <td>...</td>\n",
       "      <td>NaN</td>\n",
       "      <td>NaN</td>\n",
       "      <td>1</td>\n",
       "      <td>2015-09-09 23:57:07+00:00</td>\n",
       "      <td>http://articulo.mercadolibre.com.ar/MLA-578780...</td>\n",
       "      <td>{'latitude': -34.6233907, 'longitude': -58.414...</td>\n",
       "      <td>0</td>\n",
       "      <td>1</td>\n",
       "      <td>True</td>\n",
       "      <td>Argentina</td>\n",
       "    </tr>\n",
       "    <tr>\n",
       "      <th>3</th>\n",
       "      <td>{'comment': '', 'longitude': -58.4929208, 'id'...</td>\n",
       "      <td>None</td>\n",
       "      <td>[]</td>\n",
       "      <td>new</td>\n",
       "      <td>None</td>\n",
       "      <td>[]</td>\n",
       "      <td>580.0</td>\n",
       "      <td>{'local_pick_up': True, 'methods': [], 'tags':...</td>\n",
       "      <td>[{'description': 'Transferencia bancaria', 'id...</td>\n",
       "      <td>143001605</td>\n",
       "      <td>...</td>\n",
       "      <td>NaN</td>\n",
       "      <td>NaN</td>\n",
       "      <td>1</td>\n",
       "      <td>2015-09-28 18:47:56+00:00</td>\n",
       "      <td>http://articulo.mercadolibre.com.ar/MLA-581877...</td>\n",
       "      <td>{'latitude': -34.6281894, 'longitude': -58.492...</td>\n",
       "      <td>0</td>\n",
       "      <td>1</td>\n",
       "      <td>True</td>\n",
       "      <td>Argentina</td>\n",
       "    </tr>\n",
       "    <tr>\n",
       "      <th>4</th>\n",
       "      <td>{'comment': '', 'longitude': -58.5495042, 'id'...</td>\n",
       "      <td>MI REPUTACION.</td>\n",
       "      <td>[]</td>\n",
       "      <td>used</td>\n",
       "      <td>None</td>\n",
       "      <td>[]</td>\n",
       "      <td>30.0</td>\n",
       "      <td>{'local_pick_up': True, 'methods': [], 'tags':...</td>\n",
       "      <td>[{'description': 'Transferencia bancaria', 'id...</td>\n",
       "      <td>96873449</td>\n",
       "      <td>...</td>\n",
       "      <td>NaN</td>\n",
       "      <td>NaN</td>\n",
       "      <td>1</td>\n",
       "      <td>2015-08-24 22:07:20+00:00</td>\n",
       "      <td>http://articulo.mercadolibre.com.ar/MLA-576112...</td>\n",
       "      <td>{'latitude': -34.6346547, 'longitude': -58.549...</td>\n",
       "      <td>0</td>\n",
       "      <td>1</td>\n",
       "      <td>True</td>\n",
       "      <td>Argentina</td>\n",
       "    </tr>\n",
       "  </tbody>\n",
       "</table>\n",
       "<p>5 rows × 50 columns</p>\n",
       "</div>"
      ],
      "text/plain": [
       "                                      seller_address            warranty  \\\n",
       "0  {'comment': '', 'longitude': -58.3986709, 'id'...                None   \n",
       "1  {'comment': '', 'longitude': -58.5059173, 'id'...  NUESTRA REPUTACION   \n",
       "2  {'comment': '', 'longitude': -58.4143948, 'id'...                None   \n",
       "3  {'comment': '', 'longitude': -58.4929208, 'id'...                None   \n",
       "4  {'comment': '', 'longitude': -58.5495042, 'id'...      MI REPUTACION.   \n",
       "\n",
       "  sub_status condition seller_contact deal_ids  base_price  \\\n",
       "0         []       new           None       []        80.0   \n",
       "1         []      used           None       []      2650.0   \n",
       "2         []      used           None       []        60.0   \n",
       "3         []       new           None       []       580.0   \n",
       "4         []      used           None       []        30.0   \n",
       "\n",
       "                                            shipping  \\\n",
       "0  {'local_pick_up': True, 'methods': [], 'tags':...   \n",
       "1  {'local_pick_up': True, 'methods': [], 'tags':...   \n",
       "2  {'local_pick_up': True, 'methods': [], 'tags':...   \n",
       "3  {'local_pick_up': True, 'methods': [], 'tags':...   \n",
       "4  {'local_pick_up': True, 'methods': [], 'tags':...   \n",
       "\n",
       "                    non_mercado_pago_payment_methods  seller_id  ...  \\\n",
       "0  [{'description': 'Transferencia bancaria', 'id...   74952096  ...   \n",
       "1  [{'description': 'Transferencia bancaria', 'id...   42093335  ...   \n",
       "2  [{'description': 'Transferencia bancaria', 'id...  133384258  ...   \n",
       "3  [{'description': 'Transferencia bancaria', 'id...  143001605  ...   \n",
       "4  [{'description': 'Transferencia bancaria', 'id...   96873449  ...   \n",
       "\n",
       "  catalog_product_id subtitle initial_quantity                start_time  \\\n",
       "0                NaN      NaN                1 2015-09-05 20:42:53+00:00   \n",
       "1                NaN      NaN                1 2015-09-26 18:08:30+00:00   \n",
       "2                NaN      NaN                1 2015-09-09 23:57:07+00:00   \n",
       "3                NaN      NaN                1 2015-09-28 18:47:56+00:00   \n",
       "4                NaN      NaN                1 2015-08-24 22:07:20+00:00   \n",
       "\n",
       "                                           permalink  \\\n",
       "0  http://articulo.mercadolibre.com.ar/MLA-578052...   \n",
       "1  http://articulo.mercadolibre.com.ar/MLA-581565...   \n",
       "2  http://articulo.mercadolibre.com.ar/MLA-578780...   \n",
       "3  http://articulo.mercadolibre.com.ar/MLA-581877...   \n",
       "4  http://articulo.mercadolibre.com.ar/MLA-576112...   \n",
       "\n",
       "                                         geolocation sold_quantity  \\\n",
       "0  {'latitude': -34.6280698, 'longitude': -58.398...             0   \n",
       "1  {'latitude': -34.5935524, 'longitude': -58.505...             0   \n",
       "2  {'latitude': -34.6233907, 'longitude': -58.414...             0   \n",
       "3  {'latitude': -34.6281894, 'longitude': -58.492...             0   \n",
       "4  {'latitude': -34.6346547, 'longitude': -58.549...             0   \n",
       "\n",
       "  available_quantity same_info_0_45    country  \n",
       "0                  1           True  Argentina  \n",
       "1                  1           True  Argentina  \n",
       "2                  1           True  Argentina  \n",
       "3                  1           True  Argentina  \n",
       "4                  1           True  Argentina  \n",
       "\n",
       "[5 rows x 50 columns]"
      ]
     },
     "execution_count": 46,
     "metadata": {},
     "output_type": "execute_result"
    }
   ],
   "source": [
    "df.head()"
   ]
  },
  {
   "cell_type": "code",
   "execution_count": 50,
   "metadata": {},
   "outputs": [
    {
     "data": {
      "text/plain": [
       "condition\n",
       "False    100000\n",
       "Name: count, dtype: int64"
      ]
     },
     "execution_count": 50,
     "metadata": {},
     "output_type": "execute_result"
    }
   ],
   "source": [
    "df[\"condition\"].isna().value_counts()"
   ]
  },
  {
   "cell_type": "code",
   "execution_count": null,
   "metadata": {},
   "outputs": [],
   "source": []
  }
 ],
 "metadata": {
  "kernelspec": {
   "display_name": "Mlvenv",
   "language": "python",
   "name": "mlvenv"
  },
  "language_info": {
   "codemirror_mode": {
    "name": "ipython",
    "version": 3
   },
   "file_extension": ".py",
   "mimetype": "text/x-python",
   "name": "python",
   "nbconvert_exporter": "python",
   "pygments_lexer": "ipython3",
   "version": "3.12.0"
  }
 },
 "nbformat": 4,
 "nbformat_minor": 2
}
