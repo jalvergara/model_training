{
 "cells": [
  {
   "cell_type": "markdown",
   "metadata": {},
   "source": [
    "# _**Model Training**_\n"
   ]
  },
  {
   "cell_type": "markdown",
   "metadata": {},
   "source": [
    "We import the necessary libraries for the model"
   ]
  },
  {
   "cell_type": "code",
   "execution_count": 20,
   "metadata": {},
   "outputs": [],
   "source": [
    "import pandas as pd\n",
    "import numpy as np\n",
    "from sklearn.ensemble import RandomForestClassifier, GradientBoostingClassifier\n",
    "from sklearn.neighbors import KNeighborsClassifier\n",
    "from sklearn.linear_model import LogisticRegression\n",
    "from sklearn.metrics import classification_report, accuracy_score, roc_auc_score\n",
    "from sklearn.model_selection import train_test_split\n",
    "from xgboost import XGBClassifier"
   ]
  },
  {
   "cell_type": "code",
   "execution_count": 21,
   "metadata": {},
   "outputs": [],
   "source": [
    "Model = pd.read_json('../data/MLA_100k_Cleaned.jsonlines', lines = True)"
   ]
  },
  {
   "cell_type": "markdown",
   "metadata": {},
   "source": [
    "We divide the predictor variables into (x) and the objective variable (y)"
   ]
  },
  {
   "cell_type": "code",
   "execution_count": 22,
   "metadata": {},
   "outputs": [],
   "source": [
    "# Dividir los datos en variables predictoras (X) y la variable objetivo (y)\n",
    "X = Model[['warranty',\n",
    "           'seller_contact',\n",
    "           'base_price',\n",
    "           'price',\n",
    "           'buying_mode',\n",
    "           'last_updated',\n",
    "           'accepts_mercadopago',\n",
    "           'original_price',\n",
    "           'date_created',\n",
    "           'stop_time',\n",
    "           'status',\n",
    "           'initial_quantity',\n",
    "           'start_time',\n",
    "           'sold_quantity',\n",
    "           'available_quantity',\n",
    "           'local_pickup',\n",
    "           'shipping_free',\n",
    "           'shipping_mode',\n",
    "           'num_shipping_tags',\n",
    "           'non_mercado_pago_payment_methods',\n",
    "           'pixeles',\n",
    "           'pixeles_max']]  \n",
    "\n",
    "y = Model['condition'].apply(lambda x: 1 if x == 'new' else 0)  # 1 = new, 0 = used"
   ]
  },
  {
   "cell_type": "markdown",
   "metadata": {},
   "source": [
    "we do the 70/30 split for training and testing"
   ]
  },
  {
   "cell_type": "code",
   "execution_count": 23,
   "metadata": {},
   "outputs": [],
   "source": [
    "\n",
    "# Convertir columnas categóricas a tipo numérico\n",
    "X = pd.get_dummies(X, columns=['buying_mode', 'status', 'shipping_mode'], drop_first=True)\n",
    "\n",
    "# Manejar valores NaN\n",
    "X.fillna(0, inplace=True)  # Puedes usar 0, la media, o eliminar filas con NaN\n",
    "\n",
    "# Dividir en conjuntos de entrenamiento y prueba (70/30)\n",
    "X_train, X_test, y_train, y_test = train_test_split(X, y, test_size=0.3, random_state=42)\n",
    "\n"
   ]
  },
  {
   "cell_type": "markdown",
   "metadata": {},
   "source": [
    "We define the models that best suit this case"
   ]
  },
  {
   "cell_type": "code",
   "execution_count": 24,
   "metadata": {},
   "outputs": [],
   "source": [
    "# Definir los modelos\n",
    "models = {\n",
    "    'Random Forest': RandomForestClassifier(n_estimators=100, random_state=42),\n",
    "    'Gradient Boosting': GradientBoostingClassifier(n_estimators=100, random_state=42),\n",
    "    'K-Nearest Neighbors': KNeighborsClassifier(n_neighbors=5),\n",
    "    'Logistic Regression': LogisticRegression(max_iter=1000, random_state=42),\n",
    "    'XGBoost': XGBClassifier(use_label_encoder=False, eval_metric='logloss')\n",
    "}\n"
   ]
  },
  {
   "cell_type": "markdown",
   "metadata": {},
   "source": [
    "We train the model and evaluate to see which was the best model"
   ]
  },
  {
   "cell_type": "code",
   "execution_count": 25,
   "metadata": {},
   "outputs": [
    {
     "name": "stdout",
     "output_type": "stream",
     "text": [
      "--- Resultados para Random Forest ---\n",
      "Accuracy: 0.8194666666666667\n",
      "AUC-ROC: 0.8943187735916869\n",
      "Classification Report:\n",
      "              precision    recall  f1-score   support\n",
      "\n",
      "           0       0.78      0.85      0.81     13838\n",
      "           1       0.86      0.79      0.83     16162\n",
      "\n",
      "    accuracy                           0.82     30000\n",
      "   macro avg       0.82      0.82      0.82     30000\n",
      "weighted avg       0.82      0.82      0.82     30000\n",
      "\n",
      "--- Resultados para Gradient Boosting ---\n",
      "Accuracy: 0.8160333333333334\n",
      "AUC-ROC: 0.8872172590253128\n",
      "Classification Report:\n",
      "              precision    recall  f1-score   support\n",
      "\n",
      "           0       0.76      0.87      0.81     13838\n",
      "           1       0.88      0.77      0.82     16162\n",
      "\n",
      "    accuracy                           0.82     30000\n",
      "   macro avg       0.82      0.82      0.82     30000\n",
      "weighted avg       0.82      0.82      0.82     30000\n",
      "\n",
      "--- Resultados para K-Nearest Neighbors ---\n",
      "Accuracy: 0.7154\n",
      "AUC-ROC: 0.7771098887315575\n",
      "Classification Report:\n",
      "              precision    recall  f1-score   support\n",
      "\n",
      "           0       0.68      0.73      0.70     13838\n",
      "           1       0.75      0.70      0.73     16162\n",
      "\n",
      "    accuracy                           0.72     30000\n",
      "   macro avg       0.72      0.72      0.71     30000\n",
      "weighted avg       0.72      0.72      0.72     30000\n",
      "\n",
      "--- Resultados para Logistic Regression ---\n",
      "Accuracy: 0.6889\n",
      "AUC-ROC: 0.7607239620686195\n",
      "Classification Report:\n",
      "              precision    recall  f1-score   support\n",
      "\n",
      "           0       0.65      0.70      0.67     13838\n",
      "           1       0.73      0.68      0.70     16162\n",
      "\n",
      "    accuracy                           0.69     30000\n",
      "   macro avg       0.69      0.69      0.69     30000\n",
      "weighted avg       0.69      0.69      0.69     30000\n",
      "\n"
     ]
    },
    {
     "name": "stderr",
     "output_type": "stream",
     "text": [
      "c:\\Users\\USUARIO\\Documents\\Modelo_use_new\\model_training\\env\\Lib\\site-packages\\xgboost\\core.py:158: UserWarning: [16:25:14] WARNING: C:\\buildkite-agent\\builds\\buildkite-windows-cpu-autoscaling-group-i-0015a694724fa8361-1\\xgboost\\xgboost-ci-windows\\src\\learner.cc:740: \n",
      "Parameters: { \"use_label_encoder\" } are not used.\n",
      "\n",
      "  warnings.warn(smsg, UserWarning)\n"
     ]
    },
    {
     "name": "stdout",
     "output_type": "stream",
     "text": [
      "--- Resultados para XGBoost ---\n",
      "Accuracy: 0.8269666666666666\n",
      "AUC-ROC: 0.8997035391355401\n",
      "Classification Report:\n",
      "              precision    recall  f1-score   support\n",
      "\n",
      "           0       0.78      0.88      0.82     13838\n",
      "           1       0.88      0.78      0.83     16162\n",
      "\n",
      "    accuracy                           0.83     30000\n",
      "   macro avg       0.83      0.83      0.83     30000\n",
      "weighted avg       0.83      0.83      0.83     30000\n",
      "\n"
     ]
    }
   ],
   "source": [
    "# Entrenar y evaluar los modelos\n",
    "for model_name, model in models.items():\n",
    "    model.fit(X_train, y_train)\n",
    "    y_pred = model.predict(X_test)\n",
    "    \n",
    "    accuracy = accuracy_score(y_test, y_pred)\n",
    "    auc_roc = roc_auc_score(y_test, model.predict_proba(X_test)[:, 1])\n",
    "    \n",
    "    print(f'--- Resultados para {model_name} ---')\n",
    "    print(f'Accuracy: {accuracy}')\n",
    "    print(f'AUC-ROC: {auc_roc}')\n",
    "    print('Classification Report:')\n",
    "    print(classification_report(y_test, y_pred))"
   ]
  },
  {
   "cell_type": "code",
   "execution_count": 29,
   "metadata": {},
   "outputs": [
    {
     "name": "stderr",
     "output_type": "stream",
     "text": [
      "c:\\Users\\USUARIO\\Documents\\Modelo_use_new\\model_training\\env\\Lib\\site-packages\\xgboost\\core.py:158: UserWarning: [17:09:44] WARNING: C:\\buildkite-agent\\builds\\buildkite-windows-cpu-autoscaling-group-i-0015a694724fa8361-1\\xgboost\\xgboost-ci-windows\\src\\learner.cc:740: \n",
      "Parameters: { \"use_label_encoder\" } are not used.\n",
      "\n",
      "  warnings.warn(smsg, UserWarning)\n"
     ]
    },
    {
     "name": "stdout",
     "output_type": "stream",
     "text": [
      "--- Resultados para XGBoost ---\n",
      "Accuracy: 0.8269666666666666\n",
      "AUC-ROC: 0.8997035391355401\n",
      "Classification Report:\n",
      "              precision    recall  f1-score   support\n",
      "\n",
      "           0       0.78      0.88      0.82     13838\n",
      "           1       0.88      0.78      0.83     16162\n",
      "\n",
      "    accuracy                           0.83     30000\n",
      "   macro avg       0.83      0.83      0.83     30000\n",
      "weighted avg       0.83      0.83      0.83     30000\n",
      "\n",
      "Modelo XGBoost guardado exitosamente en 'modelo_xgboost.pkl'.\n"
     ]
    }
   ],
   "source": [
    "from xgboost import XGBClassifier\n",
    "import pickle  \n",
    "\n",
    "\n",
    "# Definir el modelo XGBoost\n",
    "xgboost_model = XGBClassifier(use_label_encoder=False, eval_metric='logloss')\n",
    "\n",
    "# Entrenar el modelo\n",
    "xgboost_model.fit(X_train, y_train)\n",
    "\n",
    "# Evaluar el modelo\n",
    "y_pred = xgboost_model.predict(X_test)\n",
    "accuracy = accuracy_score(y_test, y_pred)\n",
    "auc_roc = roc_auc_score(y_test, xgboost_model.predict_proba(X_test)[:, 1])\n",
    "\n",
    "print('--- Resultados para XGBoost ---')\n",
    "print(f'Accuracy: {accuracy}')\n",
    "print(f'AUC-ROC: {auc_roc}')\n",
    "print('Classification Report:')\n",
    "print(classification_report(y_test, y_pred))\n",
    "\n",
    "# Guardar el modelo entrenado en un archivo .pkl\n",
    "with open('../model/modelo_xgboost.pkl', 'wb') as f:\n",
    "    pickle.dump(xgboost_model, f)\n",
    "\n",
    "print(\"Modelo XGBoost guardado exitosamente en 'modelo_xgboost.pkl'.\")\n"
   ]
  }
 ],
 "metadata": {
  "kernelspec": {
   "display_name": "env",
   "language": "python",
   "name": "python3"
  },
  "language_info": {
   "codemirror_mode": {
    "name": "ipython",
    "version": 3
   },
   "file_extension": ".py",
   "mimetype": "text/x-python",
   "name": "python",
   "nbconvert_exporter": "python",
   "pygments_lexer": "ipython3",
   "version": "3.11.5"
  }
 },
 "nbformat": 4,
 "nbformat_minor": 2
}
