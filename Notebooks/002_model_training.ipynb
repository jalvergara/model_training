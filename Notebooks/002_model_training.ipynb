{
 "cells": [
  {
   "cell_type": "markdown",
   "metadata": {},
   "source": [
    "MODEL TRAINING"
   ]
  },
  {
   "cell_type": "code",
   "execution_count": 8,
   "metadata": {},
   "outputs": [],
   "source": [
    "import pandas as pd\n",
    "import numpy as np\n",
    "import seaborn as sns\n",
    "import matplotlib.pyplot as plt\n",
    "import json\n",
    "from sklearn.ensemble import RandomForestClassifier, GradientBoostingClassifier\n",
    "from sklearn.neighbors import KNeighborsClassifier\n",
    "from sklearn.linear_model import LogisticRegression\n",
    "from sklearn.metrics import classification_report, accuracy_score, roc_auc_score\n",
    "from sklearn.model_selection import train_test_split\n",
    "from xgboost import XGBClassifier\n",
    "from sklearn.linear_model import LogisticRegression\n",
    "from sklearn.metrics import classification_report, confusion_matrix, accuracy_score, roc_auc_score\n",
    "import joblib\n"
   ]
  },
  {
   "cell_type": "markdown",
   "metadata": {},
   "source": [
    "Leemos el dataset limpio"
   ]
  },
  {
   "cell_type": "code",
   "execution_count": 3,
   "metadata": {},
   "outputs": [],
   "source": [
    "df = pd.read_csv('../data/MLA_100k_clean.csv')"
   ]
  },
  {
   "cell_type": "markdown",
   "metadata": {},
   "source": [
    "Revisamos las columnas que hay en el dataset para luego generar los modelos."
   ]
  },
  {
   "cell_type": "code",
   "execution_count": 4,
   "metadata": {},
   "outputs": [
    {
     "data": {
      "text/html": [
       "<div>\n",
       "<style scoped>\n",
       "    .dataframe tbody tr th:only-of-type {\n",
       "        vertical-align: middle;\n",
       "    }\n",
       "\n",
       "    .dataframe tbody tr th {\n",
       "        vertical-align: top;\n",
       "    }\n",
       "\n",
       "    .dataframe thead th {\n",
       "        text-align: right;\n",
       "    }\n",
       "</style>\n",
       "<table border=\"1\" class=\"dataframe\">\n",
       "  <thead>\n",
       "    <tr style=\"text-align: right;\">\n",
       "      <th></th>\n",
       "      <th>condition</th>\n",
       "      <th>base_price</th>\n",
       "      <th>price</th>\n",
       "      <th>buying_mode</th>\n",
       "      <th>last_updated</th>\n",
       "      <th>accepts_mercadopago</th>\n",
       "      <th>date_created</th>\n",
       "      <th>stop_time</th>\n",
       "      <th>status</th>\n",
       "      <th>initial_quantity</th>\n",
       "      <th>start_time</th>\n",
       "      <th>sold_quantity</th>\n",
       "      <th>available_quantity</th>\n",
       "    </tr>\n",
       "  </thead>\n",
       "  <tbody>\n",
       "    <tr>\n",
       "      <th>0</th>\n",
       "      <td>1</td>\n",
       "      <td>80.0</td>\n",
       "      <td>80.0</td>\n",
       "      <td>buy_it_now</td>\n",
       "      <td>20150905</td>\n",
       "      <td>True</td>\n",
       "      <td>20150905</td>\n",
       "      <td>20151104</td>\n",
       "      <td>active</td>\n",
       "      <td>1</td>\n",
       "      <td>20150905</td>\n",
       "      <td>0</td>\n",
       "      <td>1</td>\n",
       "    </tr>\n",
       "    <tr>\n",
       "      <th>1</th>\n",
       "      <td>0</td>\n",
       "      <td>2650.0</td>\n",
       "      <td>2650.0</td>\n",
       "      <td>buy_it_now</td>\n",
       "      <td>20150926</td>\n",
       "      <td>True</td>\n",
       "      <td>20150926</td>\n",
       "      <td>20151125</td>\n",
       "      <td>active</td>\n",
       "      <td>1</td>\n",
       "      <td>20150926</td>\n",
       "      <td>0</td>\n",
       "      <td>1</td>\n",
       "    </tr>\n",
       "    <tr>\n",
       "      <th>2</th>\n",
       "      <td>0</td>\n",
       "      <td>60.0</td>\n",
       "      <td>60.0</td>\n",
       "      <td>buy_it_now</td>\n",
       "      <td>20150909</td>\n",
       "      <td>True</td>\n",
       "      <td>20150909</td>\n",
       "      <td>20151108</td>\n",
       "      <td>active</td>\n",
       "      <td>1</td>\n",
       "      <td>20150909</td>\n",
       "      <td>0</td>\n",
       "      <td>1</td>\n",
       "    </tr>\n",
       "    <tr>\n",
       "      <th>3</th>\n",
       "      <td>1</td>\n",
       "      <td>580.0</td>\n",
       "      <td>580.0</td>\n",
       "      <td>buy_it_now</td>\n",
       "      <td>20151005</td>\n",
       "      <td>True</td>\n",
       "      <td>20150928</td>\n",
       "      <td>20151204</td>\n",
       "      <td>active</td>\n",
       "      <td>1</td>\n",
       "      <td>20150928</td>\n",
       "      <td>0</td>\n",
       "      <td>1</td>\n",
       "    </tr>\n",
       "    <tr>\n",
       "      <th>4</th>\n",
       "      <td>0</td>\n",
       "      <td>30.0</td>\n",
       "      <td>30.0</td>\n",
       "      <td>buy_it_now</td>\n",
       "      <td>20150828</td>\n",
       "      <td>True</td>\n",
       "      <td>20150824</td>\n",
       "      <td>20151023</td>\n",
       "      <td>active</td>\n",
       "      <td>1</td>\n",
       "      <td>20150824</td>\n",
       "      <td>0</td>\n",
       "      <td>1</td>\n",
       "    </tr>\n",
       "  </tbody>\n",
       "</table>\n",
       "</div>"
      ],
      "text/plain": [
       "   condition  base_price   price buying_mode  last_updated  \\\n",
       "0          1        80.0    80.0  buy_it_now      20150905   \n",
       "1          0      2650.0  2650.0  buy_it_now      20150926   \n",
       "2          0        60.0    60.0  buy_it_now      20150909   \n",
       "3          1       580.0   580.0  buy_it_now      20151005   \n",
       "4          0        30.0    30.0  buy_it_now      20150828   \n",
       "\n",
       "   accepts_mercadopago  date_created  stop_time  status  initial_quantity  \\\n",
       "0                 True      20150905   20151104  active                 1   \n",
       "1                 True      20150926   20151125  active                 1   \n",
       "2                 True      20150909   20151108  active                 1   \n",
       "3                 True      20150928   20151204  active                 1   \n",
       "4                 True      20150824   20151023  active                 1   \n",
       "\n",
       "   start_time  sold_quantity  available_quantity  \n",
       "0    20150905              0                   1  \n",
       "1    20150926              0                   1  \n",
       "2    20150909              0                   1  \n",
       "3    20150928              0                   1  \n",
       "4    20150824              0                   1  "
      ]
     },
     "execution_count": 4,
     "metadata": {},
     "output_type": "execute_result"
    }
   ],
   "source": [
    "df.head()"
   ]
  },
  {
   "cell_type": "code",
   "execution_count": 11,
   "metadata": {},
   "outputs": [
    {
     "data": {
      "image/png": "[encoded data removed]",
      "text/plain": [
       "<Figure size 800x600 with 1 Axes>"
      ]
     },
     "metadata": {},
     "output_type": "display_data"
    }
   ],
   "source": [
    "# Reemplazar los valores de 'condition' con las etiquetas 'new' y 'used'\n",
    "df['condition'] = df['condition'].map({1: 'new', 0: 'used'})\n",
    "\n",
    "# Contar la cantidad de cada categoría\n",
    "condition_counts = df['condition'].value_counts()\n",
    "colors = sns.color_palette('Set2')[0:len(condition_counts)]\n",
    "\n",
    "# Crear el gráfico de barras\n",
    "plt.figure(figsize=(8, 6))\n",
    "plt.bar(condition_counts.index, condition_counts.values, color=colors)\n",
    "plt.title('Distribution of Conditions (New vs Used)')\n",
    "plt.xlabel('Condition')\n",
    "plt.ylabel('Count')\n",
    "plt.show()"
   ]
  },
  {
   "cell_type": "markdown",
   "metadata": {},
   "source": [
    "Este gráfico de barras indica que en el conjunto de datos hay una mayor cantidad de productos nuevos que usados. Aunque la diferencia no es enorme, sí se observa una tendencia hacia una oferta más alta de productos nuevos en comparación con los usados."
   ]
  },
  {
   "cell_type": "markdown",
   "metadata": {},
   "source": [
    "generar los modelos de predicción utilizando diferentes algoritmos: Regresión Logística, RandomForestClassifier, XGBClassifier, Gradient Boosting y K-Nearest Neighbors (KNN)."
   ]
  },
  {
   "cell_type": "code",
   "execution_count": 34,
   "metadata": {},
   "outputs": [],
   "source": [
    "# Convertir variables categóricas a variables dummy (One-Hot Encoding)\n",
    "df_encoded = pd.get_dummies(df, drop_first=True)\n",
    "\n",
    "# Definir X (todas las columnas excepto la columna objetivo) e y (columna objetivo)\n",
    "X = df_encoded.drop('condition', axis=1)  # Asumiendo que 'condition' es tu variable objetivo\n",
    "y = df_encoded['condition']\n",
    "\n",
    "# Dividir el dataset en entrenamiento y prueba\n",
    "X_train, X_test, y_train, y_test = train_test_split(X, y, test_size=0.2, random_state=42)\n"
   ]
  },
  {
   "cell_type": "markdown",
   "metadata": {},
   "source": [
    "#### Entrenamos los Modelos"
   ]
  },
  {
   "cell_type": "markdown",
   "metadata": {},
   "source": [
    "Regresión Logística\n"
   ]
  },
  {
   "cell_type": "code",
   "execution_count": 35,
   "metadata": {},
   "outputs": [
    {
     "name": "stdout",
     "output_type": "stream",
     "text": [
      "Accuracy Logistic Regression: 0.7095\n"
     ]
    }
   ],
   "source": [
    "\n",
    "# Entrenar el modelo de Regresión Logística\n",
    "log_reg = LogisticRegression(max_iter=1000)\n",
    "log_reg.fit(X_train, y_train)\n",
    "\n",
    "# Hacer predicciones\n",
    "y_pred_log = log_reg.predict(X_test)\n",
    "\n",
    "# Calcular la precisión\n",
    "accuracy_log = accuracy_score(y_test, y_pred_log)\n",
    "print(f'Accuracy Logistic Regression: {accuracy_log}')"
   ]
  },
  {
   "cell_type": "markdown",
   "metadata": {},
   "source": [
    "RandomForestClassifier"
   ]
  },
  {
   "cell_type": "code",
   "execution_count": 36,
   "metadata": {},
   "outputs": [
    {
     "name": "stdout",
     "output_type": "stream",
     "text": [
      "Accuracy Random Forest: 0.76685\n"
     ]
    }
   ],
   "source": [
    "# Crear el modelo Random Forest\n",
    "rf_clf = RandomForestClassifier(n_estimators=100, random_state=42)\n",
    "\n",
    "# Entrenar el modelo\n",
    "rf_clf.fit(X_train, y_train)\n",
    "\n",
    "# Hacer predicciones\n",
    "y_pred_rf = rf_clf.predict(X_test)\n",
    "\n",
    "# Evaluar el modelo\n",
    "accuracy_rf = accuracy_score(y_test, y_pred_rf)\n",
    "print(f'Accuracy Random Forest: {accuracy_rf}')\n"
   ]
  },
  {
   "cell_type": "markdown",
   "metadata": {},
   "source": [
    "XGBClassifier"
   ]
  },
  {
   "cell_type": "code",
   "execution_count": 37,
   "metadata": {},
   "outputs": [
    {
     "name": "stdout",
     "output_type": "stream",
     "text": [
      "Accuracy XGBoost: 0.78515\n"
     ]
    }
   ],
   "source": [
    "# Crear el modelo XGBoost\n",
    "xgb_clf = XGBClassifier(eval_metric='mlogloss')\n",
    "\n",
    "# Entrenar el modelo\n",
    "xgb_clf.fit(X_train, y_train)\n",
    "\n",
    "# Hacer predicciones\n",
    "y_pred_xgb = xgb_clf.predict(X_test)\n",
    "\n",
    "# Evaluar el modelo\n",
    "accuracy_xgb = accuracy_score(y_test, y_pred_xgb)\n",
    "print(f'Accuracy XGBoost: {accuracy_xgb}')\n"
   ]
  },
  {
   "cell_type": "markdown",
   "metadata": {},
   "source": [
    "Gradient Boosting"
   ]
  },
  {
   "cell_type": "code",
   "execution_count": 44,
   "metadata": {},
   "outputs": [
    {
     "name": "stdout",
     "output_type": "stream",
     "text": [
      "Gradient Boosting - Accuracy: 0.76995\n"
     ]
    }
   ],
   "source": [
    "# Entrenar Gradient Boosting\n",
    "gb_clf = GradientBoostingClassifier(random_state=42)\n",
    "gb_clf.fit(X_train, y_train)\n",
    "y_pred_gb = gb_clf.predict(X_test)\n",
    "\n",
    "# Evaluar Gradient Boosting\n",
    "print(\"Gradient Boosting - Accuracy:\", accuracy_score(y_test, y_pred_gb))"
   ]
  },
  {
   "cell_type": "markdown",
   "metadata": {},
   "source": [
    "K-Nearest Neighbors (KNN)"
   ]
  },
  {
   "cell_type": "code",
   "execution_count": 46,
   "metadata": {},
   "outputs": [
    {
     "name": "stdout",
     "output_type": "stream",
     "text": [
      "KNN - Accuracy: 0.72995\n"
     ]
    }
   ],
   "source": [
    "# Entrenar KNN\n",
    "knn_clf = KNeighborsClassifier(n_neighbors=5)\n",
    "knn_clf.fit(X_train, y_train)\n",
    "y_pred_knn = knn_clf.predict(X_test)\n",
    "\n",
    "# Evaluar KNN\n",
    "print(\"KNN - Accuracy:\", accuracy_score(y_test, y_pred_knn))"
   ]
  },
  {
   "cell_type": "markdown",
   "metadata": {},
   "source": [
    "Comparar los resultados"
   ]
  },
  {
   "cell_type": "code",
   "execution_count": 50,
   "metadata": {},
   "outputs": [
    {
     "name": "stdout",
     "output_type": "stream",
     "text": [
      "Accuracy Logistic Regression: 0.7095\n",
      "Accuracy Random Forest: 0.76685\n",
      "Accuracy XGBoost: 0.78515\n",
      "Accuracy Gradient Boosting: 0.76995\n",
      "Accuracy KNN: 0.72995\n"
     ]
    }
   ],
   "source": [
    "print(f'Accuracy Logistic Regression: {accuracy_log}')\n",
    "print(f'Accuracy Random Forest: {accuracy_rf}')\n",
    "print(f'Accuracy XGBoost: {accuracy_xgb}')\n",
    "print(\"Accuracy Gradient Boosting:\", accuracy_score(y_test, y_pred_gb))\n",
    "print(\"Accuracy KNN:\", accuracy_score(y_test, y_pred_knn))"
   ]
  },
  {
   "cell_type": "markdown",
   "metadata": {},
   "source": [
    "Despues de entrenar los cinco modelos: Regresión Logística, RandomForestClassifier, XGBClassifier, Gradient Boosting y K-Nearest Neighbors (KNN). Para seleccionar el mejor, usamos la métrica de accuracy.\n",
    "\n",
    "En este caso el modelo de XGBoost ha tenido el mejor rendimiento en términos de accuracy (0.78515)."
   ]
  },
  {
   "cell_type": "markdown",
   "metadata": {},
   "source": [
    "### Guardar el modelo XGBoost como archivo .pkl"
   ]
  },
  {
   "cell_type": "code",
   "execution_count": 51,
   "metadata": {},
   "outputs": [
    {
     "name": "stdout",
     "output_type": "stream",
     "text": [
      "Modelo XGBoost guardado como 'modelo_xgboost.pkl'\n"
     ]
    }
   ],
   "source": [
    "joblib.dump(xgb_clf, '../Model/modelo_xgboost.pkl')\n",
    "\n",
    "print(\"Modelo XGBoost guardado como 'modelo_xgboost.pkl'\")"
   ]
  },
  {
   "cell_type": "markdown",
   "metadata": {},
   "source": [
    "Gráfico de variables influyentes en el comportamiento del modelo."
   ]
  },
  {
   "cell_type": "code",
   "execution_count": null,
   "metadata": {},
   "outputs": [],
   "source": []
  }
 ],
 "metadata": {
  "kernelspec": {
   "display_name": "Python 3",
   "language": "python",
   "name": "python3"
  },
  "language_info": {
   "codemirror_mode": {
    "name": "ipython",
    "version": 3
   },
   "file_extension": ".py",
   "mimetype": "text/x-python",
   "name": "python",
   "nbconvert_exporter": "python",
   "pygments_lexer": "ipython3",
   "version": "3.12.6"
  }
 },
 "nbformat": 4,
 "nbformat_minor": 2
}
