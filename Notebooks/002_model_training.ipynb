{
 "cells": [
  {
   "cell_type": "markdown",
   "metadata": {},
   "source": [
    "# _**Model Training**_\n"
   ]
  },
  {
   "cell_type": "code",
   "execution_count": 1,
   "metadata": {},
   "outputs": [],
   "source": [
    "import pandas as pd\n",
    "from sklearn.ensemble import RandomForestClassifier, GradientBoostingClassifier\n",
    "from sklearn.neighbors import KNeighborsClassifier\n",
    "from sklearn.linear_model import LogisticRegression\n",
    "from sklearn.metrics import classification_report, accuracy_score, roc_auc_score\n",
    "from sklearn.model_selection import train_test_split\n"
   ]
  },
  {
   "cell_type": "code",
   "execution_count": 6,
   "metadata": {},
   "outputs": [],
   "source": [
    "Model = pd.read_json('../data/MLA_100k_Cleaned.jsonlines', lines = True)"
   ]
  },
  {
   "cell_type": "code",
   "execution_count": 7,
   "metadata": {},
   "outputs": [],
   "source": [
    "# Dividir los datos en variables predictoras (X) y la variable objetivo (y)\n",
    "X = Model[['base_price',\n",
    "           'price',\n",
    "           'buying_mode',\n",
    "           'last_updated',\n",
    "           'accepts_mercadopago',\n",
    "           'date_created',\n",
    "           'stop_time',\n",
    "           'status',\n",
    "           'initial_quantity',\n",
    "           'start_time',\n",
    "           'sold_quantity',\n",
    "           'available_quantity']]  # Añadir más características\n",
    "y = Model['condition'].apply(lambda x: 1 if x == 'new' else 0)  # 1 = new, 0 = used"
   ]
  },
  {
   "cell_type": "code",
   "execution_count": 8,
   "metadata": {},
   "outputs": [],
   "source": [
    "X_train, X_test, y_train, y_test = train_test_split(X, y, test_size=0.3, random_state=42)"
   ]
  },
  {
   "cell_type": "code",
   "execution_count": 31,
   "metadata": {},
   "outputs": [],
   "source": [
    "import numpy as np\n",
    "X_train = np.array(X_train)\n",
    "y_train = np.array(y_train)"
   ]
  },
  {
   "cell_type": "code",
   "execution_count": 10,
   "metadata": {},
   "outputs": [],
   "source": [
    "models = {\n",
    "    'Random Forest': RandomForestClassifier(n_estimators=100, random_state=42),\n",
    "    'Gradient Boosting': GradientBoostingClassifier(n_estimators=100, random_state=42),\n",
    "    'K-Nearest Neighbors': KNeighborsClassifier(n_neighbors=5),\n",
    "    'Logistic Regression': LogisticRegression(random_state=42)\n",
    "}\n"
   ]
  },
  {
   "cell_type": "code",
   "execution_count": 12,
   "metadata": {},
   "outputs": [
    {
     "name": "stderr",
     "output_type": "stream",
     "text": [
      "d:\\QuintoSemestre\\ETL\\model_training\\venv\\Lib\\site-packages\\xgboost\\core.py:158: UserWarning: [11:50:34] WARNING: C:\\buildkite-agent\\builds\\buildkite-windows-cpu-autoscaling-group-i-0015a694724fa8361-1\\xgboost\\xgboost-ci-windows\\src\\learner.cc:740: \n",
      "Parameters: { \"use_label_encoder\" } are not used.\n",
      "\n",
      "  warnings.warn(smsg, UserWarning)\n"
     ]
    },
    {
     "name": "stdout",
     "output_type": "stream",
     "text": [
      "Accuracy: 0.7838\n"
     ]
    }
   ],
   "source": [
    "from xgboost import XGBClassifier\n",
    "# Entrenar un modelo\n",
    "model = XGBClassifier(use_label_encoder=False, eval_metric='mlogloss')\n",
    "model.fit(X_train, y_train)\n",
    "\n",
    "# Predicciones\n",
    "y_pred = model.predict(X_test)\n",
    "\n",
    "# Evaluación\n",
    "print(\"Accuracy:\", accuracy_score(y_test, y_pred))"
   ]
  },
  {
   "cell_type": "code",
   "execution_count": 11,
   "metadata": {},
   "outputs": [
    {
     "name": "stdout",
     "output_type": "stream",
     "text": [
      "Entrenando el modelo: Random Forest\n",
      "\n",
      "--- Resultados para Random Forest ---\n",
      "Accuracy: 0.7671666666666667\n",
      "AUC-ROC: 0.8418225236069563\n",
      "Classification Report:\n",
      "              precision    recall  f1-score   support\n",
      "\n",
      "           0       0.72      0.81      0.76     13838\n",
      "           1       0.82      0.73      0.77     16162\n",
      "\n",
      "    accuracy                           0.77     30000\n",
      "   macro avg       0.77      0.77      0.77     30000\n",
      "weighted avg       0.77      0.77      0.77     30000\n",
      "\n",
      "\n",
      "Entrenando el modelo: Gradient Boosting\n",
      "\n",
      "--- Resultados para Gradient Boosting ---\n",
      "Accuracy: 0.7693\n",
      "AUC-ROC: 0.8551297793501729\n",
      "Classification Report:\n",
      "              precision    recall  f1-score   support\n",
      "\n",
      "           0       0.69      0.91      0.78     13838\n",
      "           1       0.89      0.65      0.75     16162\n",
      "\n",
      "    accuracy                           0.77     30000\n",
      "   macro avg       0.79      0.78      0.77     30000\n",
      "weighted avg       0.80      0.77      0.77     30000\n",
      "\n",
      "\n",
      "Entrenando el modelo: K-Nearest Neighbors\n",
      "\n",
      "--- Resultados para K-Nearest Neighbors ---\n",
      "Accuracy: 0.7255333333333334\n",
      "AUC-ROC: 0.7909877330695589\n",
      "Classification Report:\n",
      "              precision    recall  f1-score   support\n",
      "\n",
      "           0       0.67      0.78      0.72     13838\n",
      "           1       0.78      0.68      0.73     16162\n",
      "\n",
      "    accuracy                           0.73     30000\n",
      "   macro avg       0.73      0.73      0.73     30000\n",
      "weighted avg       0.73      0.73      0.73     30000\n",
      "\n",
      "\n",
      "Entrenando el modelo: Logistic Regression\n",
      "\n",
      "--- Resultados para Logistic Regression ---\n",
      "Accuracy: 0.6904333333333333\n",
      "AUC-ROC: 0.7302904166816976\n",
      "Classification Report:\n",
      "              precision    recall  f1-score   support\n",
      "\n",
      "           0       0.62      0.85      0.72     13838\n",
      "           1       0.81      0.55      0.66     16162\n",
      "\n",
      "    accuracy                           0.69     30000\n",
      "   macro avg       0.72      0.70      0.69     30000\n",
      "weighted avg       0.72      0.69      0.69     30000\n",
      "\n",
      "\n"
     ]
    },
    {
     "name": "stderr",
     "output_type": "stream",
     "text": [
      "d:\\QuintoSemestre\\ETL\\model_training\\venv\\Lib\\site-packages\\sklearn\\linear_model\\_logistic.py:469: ConvergenceWarning: lbfgs failed to converge (status=1):\n",
      "STOP: TOTAL NO. of ITERATIONS REACHED LIMIT.\n",
      "\n",
      "Increase the number of iterations (max_iter) or scale the data as shown in:\n",
      "    https://scikit-learn.org/stable/modules/preprocessing.html\n",
      "Please also refer to the documentation for alternative solver options:\n",
      "    https://scikit-learn.org/stable/modules/linear_model.html#logistic-regression\n",
      "  n_iter_i = _check_optimize_result(\n"
     ]
    }
   ],
   "source": [
    "# Entrenamos y evaluamos cada modelo\n",
    "for name, model in models.items():\n",
    "    print(f'Entrenando el modelo: {name}')\n",
    "    model.fit(X_train, y_train)\n",
    "    \n",
    "    # Predicciones\n",
    "    y_pred = model.predict(X_test)\n",
    "    y_prob = model.predict_proba(X_test)[:, 1]  # Para AUC ROC\n",
    "    \n",
    "    # Métricas de rendimiento\n",
    "    print(f'\\n--- Resultados para {name} ---')\n",
    "    print(f'Accuracy: {accuracy_score(y_test, y_pred)}')\n",
    "    print(f'AUC-ROC: {roc_auc_score(y_test, y_prob)}')\n",
    "    print(f'Classification Report:\\n{classification_report(y_test, y_pred)}\\n')"
   ]
  }
 ],
 "metadata": {
  "kernelspec": {
   "display_name": "venv",
   "language": "python",
   "name": "python3"
  },
  "language_info": {
   "codemirror_mode": {
    "name": "ipython",
    "version": 3
   },
   "file_extension": ".py",
   "mimetype": "text/x-python",
   "name": "python",
   "nbconvert_exporter": "python",
   "pygments_lexer": "ipython3",
   "version": "3.11.5"
  }
 },
 "nbformat": 4,
 "nbformat_minor": 2
}
