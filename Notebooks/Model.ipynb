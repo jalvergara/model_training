{
 "cells": [
  {
   "cell_type": "markdown",
   "metadata": {},
   "source": [
    "# Modelo"
   ]
  },
  {
   "cell_type": "code",
   "execution_count": 15,
   "metadata": {},
   "outputs": [],
   "source": [
    "import jsonlines\n",
    "import pandas as pd\n",
    "from sklearn.model_selection import train_test_split\n",
    "from sklearn.linear_model import LogisticRegression\n",
    "from sklearn.metrics import accuracy_score, classification_report\n",
    "\n",
    "\n",
    "file_path = \"../data/cleaned_df.jsonlines\"\n",
    "df = pd.read_json(file_path, lines=True)"
   ]
  },
  {
   "cell_type": "code",
   "execution_count": 16,
   "metadata": {},
   "outputs": [
    {
     "name": "stdout",
     "output_type": "stream",
     "text": [
      "<class 'pandas.core.frame.DataFrame'>\n",
      "RangeIndex: 100000 entries, 0 to 99999\n",
      "Data columns (total 66 columns):\n",
      " #   Column                             Non-Null Count   Dtype         \n",
      "---  ------                             --------------   -----         \n",
      " 0   warranty                           100000 non-null  object        \n",
      " 1   sub_status                         100000 non-null  object        \n",
      " 2   condition                          100000 non-null  object        \n",
      " 3   seller_contact                     100000 non-null  object        \n",
      " 4   deal_ids                           100000 non-null  object        \n",
      " 5   base_price                         100000 non-null  float64       \n",
      " 6   seller_id                          100000 non-null  int64         \n",
      " 7   variations                         100000 non-null  object        \n",
      " 8   site_id                            100000 non-null  object        \n",
      " 9   listing_type_id                    100000 non-null  object        \n",
      " 10  price                              100000 non-null  float64       \n",
      " 11  attributes                         100000 non-null  object        \n",
      " 12  buying_mode                        100000 non-null  object        \n",
      " 13  tags                               100000 non-null  object        \n",
      " 14  parent_item_id                     100000 non-null  object        \n",
      " 15  coverage_areas                     100000 non-null  object        \n",
      " 16  category_id                        100000 non-null  object        \n",
      " 17  last_updated                       100000 non-null  object        \n",
      " 18  international_delivery_mode        100000 non-null  object        \n",
      " 19  id                                 100000 non-null  object        \n",
      " 20  official_store_id                  100000 non-null  object        \n",
      " 21  differential_pricing               100000 non-null  object        \n",
      " 22  accepts_mercadopago                100000 non-null  bool          \n",
      " 23  original_price                     100000 non-null  object        \n",
      " 24  currency_id                        100000 non-null  object        \n",
      " 25  thumbnail                          100000 non-null  object        \n",
      " 26  title                              100000 non-null  object        \n",
      " 27  automatic_relist                   100000 non-null  bool          \n",
      " 28  date_created                       100000 non-null  object        \n",
      " 29  secure_thumbnail                   100000 non-null  object        \n",
      " 30  stop_time                          100000 non-null  datetime64[ns]\n",
      " 31  status                             100000 non-null  object        \n",
      " 32  video_id                           100000 non-null  object        \n",
      " 33  catalog_product_id                 100000 non-null  object        \n",
      " 34  subtitle                           100000 non-null  object        \n",
      " 35  initial_quantity                   100000 non-null  int64         \n",
      " 36  start_time                         100000 non-null  datetime64[ns]\n",
      " 37  permalink                          100000 non-null  object        \n",
      " 38  sold_quantity                      100000 non-null  int64         \n",
      " 39  available_quantity                 100000 non-null  int64         \n",
      " 40  local_pick_up                      100000 non-null  bool          \n",
      " 41  free_shipping                      100000 non-null  bool          \n",
      " 42  shipping_mode                      100000 non-null  object        \n",
      " 43  geolocation_latitude               100000 non-null  int64         \n",
      " 44  geolocation_longitude              100000 non-null  int64         \n",
      " 45  seller_address_id                  100000 non-null  int64         \n",
      " 46  country.name                       100000 non-null  object        \n",
      " 47  country.id                         100000 non-null  object        \n",
      " 48  search_location.neighborhood.name  100000 non-null  object        \n",
      " 49  search_location.neighborhood.id    100000 non-null  object        \n",
      " 50  search_location.state.name         100000 non-null  object        \n",
      " 51  search_location.state.id           100000 non-null  object        \n",
      " 52  search_location.city.name          100000 non-null  object        \n",
      " 53  search_location.city.id            100000 non-null  object        \n",
      " 54  city.name                          100000 non-null  object        \n",
      " 55  city.id                            100000 non-null  object        \n",
      " 56  state.name                         100000 non-null  object        \n",
      " 57  state.id                           100000 non-null  object        \n",
      " 58  non_mercado_pago_description0      100000 non-null  object        \n",
      " 59  non_mercado_pago_id0               100000 non-null  object        \n",
      " 60  non_mercado_pago_type0             100000 non-null  object        \n",
      " 61  non_mercado_pago_description1      100000 non-null  object        \n",
      " 62  non_mercado_pago_id1               100000 non-null  object        \n",
      " 63  non_mercado_pago_type1             100000 non-null  object        \n",
      " 64  condition_num                      100000 non-null  int64         \n",
      " 65  condition_dummy                    100000 non-null  int64         \n",
      "dtypes: bool(4), datetime64[ns](2), float64(2), int64(9), object(49)\n",
      "memory usage: 47.7+ MB\n"
     ]
    }
   ],
   "source": [
    "df.info()"
   ]
  },
  {
   "cell_type": "code",
   "execution_count": 17,
   "metadata": {},
   "outputs": [
    {
     "name": "stdout",
     "output_type": "stream",
     "text": [
      "price                  0\n",
      "base_price             0\n",
      "sold_quantity          0\n",
      "available_quantity     0\n",
      "accepts_mercadopago    0\n",
      "local_pick_up          0\n",
      "free_shipping          0\n",
      "dtype: int64\n",
      "condition_dummy 0\n"
     ]
    }
   ],
   "source": [
    "#X => Columnas con las que predeciremos\n",
    "X = df[['price', 'base_price', 'sold_quantity', 'available_quantity', 'accepts_mercadopago', 'local_pick_up', 'free_shipping']]\n",
    "\n",
    "#y => Columna a predecir\n",
    "y = df['condition_dummy']\n",
    "\n",
    "# Podemos verificar que no hayan datos nulos\n",
    "print(X.isna().sum())\n",
    "print(\"condition_dummy\", y.isna().sum())"
   ]
  },
  {
   "cell_type": "code",
   "execution_count": 18,
   "metadata": {},
   "outputs": [],
   "source": [
    "# 70% Entrenamiento y 30% Prueba\n",
    "X_train, X_test, y_train, y_test = train_test_split(X, y, test_size=0.3, random_state=42)"
   ]
  },
  {
   "cell_type": "code",
   "execution_count": 23,
   "metadata": {},
   "outputs": [
    {
     "name": "stdout",
     "output_type": "stream",
     "text": [
      "Modelo 1\n",
      "Accuracy: 0.7210666666666666\n"
     ]
    }
   ],
   "source": [
    "# Opción 1: Modelo de regresión Logísticaa\n",
    "print(\"Modelo 1\")\n",
    "logistic_model = LogisticRegression(max_iter=1000)\n",
    "logistic_model.fit(X_train, y_train)\n",
    "\n",
    "# Predicción con el modelo de regresión logística\n",
    "y_pred_logistic = logistic_model.predict(X_test)\n",
    "\n",
    "# Evaluación del modelo de clasificación\n",
    "print('Accuracy:', accuracy_score(y_test, y_pred_logistic))"
   ]
  }
 ],
 "metadata": {
  "kernelspec": {
   "display_name": "env",
   "language": "python",
   "name": "python3"
  },
  "language_info": {
   "codemirror_mode": {
    "name": "ipython",
    "version": 3
   },
   "file_extension": ".py",
   "mimetype": "text/x-python",
   "name": "python",
   "nbconvert_exporter": "python",
   "pygments_lexer": "ipython3",
   "version": "3.12.7"
  }
 },
 "nbformat": 4,
 "nbformat_minor": 2
}
